{
 "cells": [
  {
   "cell_type": "markdown",
   "metadata": {},
   "source": [
    "# Similarity of Adverse Event Reports Using NLP"
   ]
  },
  {
   "cell_type": "code",
   "execution_count": 1,
   "metadata": {},
   "outputs": [],
   "source": [
    "import pandas as pd\n",
    "import numpy as np\n",
    "import seaborn as sns\n",
    "import matplotlib.pyplot as plt\n",
    "\n",
    "%matplotlib inline\n",
    "pd.options.display.max_colwidth=500"
   ]
  },
  {
   "cell_type": "markdown",
   "metadata": {},
   "source": [
    "# DataFrame after Device_problems categories reduction"
   ]
  },
  {
   "cell_type": "code",
   "execution_count": 3,
   "metadata": {},
   "outputs": [
    {
     "data": {
      "text/html": [
       "<div>\n",
       "<style scoped>\n",
       "    .dataframe tbody tr th:only-of-type {\n",
       "        vertical-align: middle;\n",
       "    }\n",
       "\n",
       "    .dataframe tbody tr th {\n",
       "        vertical-align: top;\n",
       "    }\n",
       "\n",
       "    .dataframe thead th {\n",
       "        text-align: right;\n",
       "    }\n",
       "</style>\n",
       "<table border=\"1\" class=\"dataframe\">\n",
       "  <thead>\n",
       "    <tr style=\"text-align: right;\">\n",
       "      <th></th>\n",
       "      <th>Unnamed: 0</th>\n",
       "      <th>Device_Problems</th>\n",
       "      <th>Event_description</th>\n",
       "      <th>Narrative</th>\n",
       "      <th>Event_description_Narrative</th>\n",
       "    </tr>\n",
       "  </thead>\n",
       "  <tbody>\n",
       "    <tr>\n",
       "      <th>820</th>\n",
       "      <td>820</td>\n",
       "      <td>Mechanical_Problems</td>\n",
       "      <td>it was reported that while in use on a patient a 980 ventilator went into a ventilator inoperative  status the patient was removed from the ventilator and placed on an alternate ventilator with no harm or injury</td>\n",
       "      <td>device evaluation summary the service engineer se evaluated the device and replaced the direct current dc to dc printed circuit board pcb the ventilator passed all testing per manufacturing specification and was placed back into clinical use if the replaced part is returned for failure investigation a supplemental medwatch report with the findings will be submitted once the investigation is complete if information is provided in the future a supplemental report will be issued</td>\n",
       "      <td>it was reported that while in use on a patient a 980 ventilator went into a ventilator inoperative  status the patient was removed from the ventilator and placed on an alternate ventilator with no harm or injurydevice evaluation summary the service engineer se evaluated the device and replaced the direct current dc to dc printed circuit board pcb the ventilator passed all testing per manufacturing specification and was placed back into clinical use if the replaced part is returned for failur...</td>\n",
       "    </tr>\n",
       "  </tbody>\n",
       "</table>\n",
       "</div>"
      ],
      "text/plain": [
       "     Unnamed: 0      Device_Problems  \\\n",
       "820         820  Mechanical_Problems   \n",
       "\n",
       "                                                                                                                                                                                                       Event_description  \\\n",
       "820  it was reported that while in use on a patient a 980 ventilator went into a ventilator inoperative  status the patient was removed from the ventilator and placed on an alternate ventilator with no harm or injury   \n",
       "\n",
       "                                                                                                                                                                                                                                                                                                                                                                                                                                                                                            Narrative  \\\n",
       "820  device evaluation summary the service engineer se evaluated the device and replaced the direct current dc to dc printed circuit board pcb the ventilator passed all testing per manufacturing specification and was placed back into clinical use if the replaced part is returned for failure investigation a supplemental medwatch report with the findings will be submitted once the investigation is complete if information is provided in the future a supplemental report will be issued   \n",
       "\n",
       "                                                                                                                                                                                                                                                                                                                                                                                                                                                                                             Event_description_Narrative  \n",
       "820  it was reported that while in use on a patient a 980 ventilator went into a ventilator inoperative  status the patient was removed from the ventilator and placed on an alternate ventilator with no harm or injurydevice evaluation summary the service engineer se evaluated the device and replaced the direct current dc to dc printed circuit board pcb the ventilator passed all testing per manufacturing specification and was placed back into clinical use if the replaced part is returned for failur...  "
      ]
     },
     "execution_count": 3,
     "metadata": {},
     "output_type": "execute_result"
    }
   ],
   "source": [
    "df=pd.read_csv(\"CBK2020transformed.csv\")\n",
    "df.sample(n=1)"
   ]
  },
  {
   "cell_type": "code",
   "execution_count": 4,
   "metadata": {},
   "outputs": [
    {
     "name": "stdout",
     "output_type": "stream",
     "text": [
      "5383\n"
     ]
    },
    {
     "data": {
      "text/html": [
       "<div>\n",
       "<style scoped>\n",
       "    .dataframe tbody tr th:only-of-type {\n",
       "        vertical-align: middle;\n",
       "    }\n",
       "\n",
       "    .dataframe tbody tr th {\n",
       "        vertical-align: top;\n",
       "    }\n",
       "\n",
       "    .dataframe thead th {\n",
       "        text-align: right;\n",
       "    }\n",
       "</style>\n",
       "<table border=\"1\" class=\"dataframe\">\n",
       "  <thead>\n",
       "    <tr style=\"text-align: right;\">\n",
       "      <th></th>\n",
       "      <th>Device_Problems</th>\n",
       "      <th>Event_description</th>\n",
       "      <th>Narrative</th>\n",
       "      <th>Event_description_Narrative</th>\n",
       "    </tr>\n",
       "  </thead>\n",
       "  <tbody>\n",
       "    <tr>\n",
       "      <th>0</th>\n",
       "      <td>Calibration_Problems</td>\n",
       "      <td>it was reported to resmed that an astral device failed to complete its internal selftest there was no patient harm or serious injury reported as a result of this incident</td>\n",
       "      <td>the device was returned to an authorized resmed third party service center for an evaluation and service the customer was issued with a replacement nonreturn valve nrv assembly as a part of a warranty claim b4</td>\n",
       "      <td>it was reported to resmed that an astral device failed to complete its internal selftest there was no patient harm or serious injury reported as a result of this incidentthe device was returned to an authorized resmed third party service center for an evaluation and service the customer was issued with a replacement nonreturn valve nrv assembly as a part of a warranty claim b4</td>\n",
       "    </tr>\n",
       "    <tr>\n",
       "      <th>1</th>\n",
       "      <td>Circuit_failure</td>\n",
       "      <td>complainant alleged that while attempting to treat a patient age  gender unknown the device did not operate correctly this is all the information available at this time complainant did not indicate that there was any adverse effect to the patient due to the reported malfunction</td>\n",
       "      <td>zoll medical corporation has not received the device for evaluation and this complaint is still under investigation</td>\n",
       "      <td>complainant alleged that while attempting to treat a patient age  gender unknown the device did not operate correctly this is all the information available at this time complainant did not indicate that there was any adverse effect to the patient due to the reported malfunctionzoll medical corporation has not received the device for evaluation and this complaint is still under investigation</td>\n",
       "    </tr>\n",
       "    <tr>\n",
       "      <th>2</th>\n",
       "      <td>Mechanical_Problems</td>\n",
       "      <td>the customer reported that the avea ventilators vte was reading 1 69 monitored and 878 delivered when set at 500 vti was way off as well and peep was reading 8 8 when set at 6 the customer confirmed that there was no patient involvement associated with the reported event</td>\n",
       "      <td>vyaire complaint  b4 at this time vyaire has not received the suspect devicecomponent for evaluation</td>\n",
       "      <td>the customer reported that the avea ventilators vte was reading 1 69 monitored and 878 delivered when set at 500 vti was way off as well and peep was reading 8 8 when set at 6 the customer confirmed that there was no patient involvement associated with the reported eventvyaire complaint  b4 at this time vyaire has not received the suspect devicecomponent for evaluation</td>\n",
       "    </tr>\n",
       "    <tr>\n",
       "      <th>3</th>\n",
       "      <td>Mechanical_Problems</td>\n",
       "      <td>the customer reported to vyaire medical that the vela ventilator fio2 is out of spec at this time there is no information about patient involvement on the reported event</td>\n",
       "      <td>b4 any additional information received from the customer will be included in a followup report at this time the suspect device has not been returned for evaluation therefore no root cause could be determined yet</td>\n",
       "      <td>the customer reported to vyaire medical that the vela ventilator fio2 is out of spec at this time there is no information about patient involvement on the reported eventb4 any additional information received from the customer will be included in a followup report at this time the suspect device has not been returned for evaluation therefore no root cause could be determined yet</td>\n",
       "    </tr>\n",
       "    <tr>\n",
       "      <th>4</th>\n",
       "      <td>Calibration_Problems</td>\n",
       "      <td>it was reported to resmed that an astral device failed to complete its internal selftest there was no patient harm or serious injury reported as a result of this incident</td>\n",
       "      <td>the device was returned to resmed and an evaluation confirmed the complaint the nonreturn valve assembly nrv will need to be replaced to address the issue b4</td>\n",
       "      <td>it was reported to resmed that an astral device failed to complete its internal selftest there was no patient harm or serious injury reported as a result of this incidentthe device was returned to resmed and an evaluation confirmed the complaint the nonreturn valve assembly nrv will need to be replaced to address the issue b4</td>\n",
       "    </tr>\n",
       "  </tbody>\n",
       "</table>\n",
       "</div>"
      ],
      "text/plain": [
       "        Device_Problems  \\\n",
       "0  Calibration_Problems   \n",
       "1       Circuit_failure   \n",
       "2   Mechanical_Problems   \n",
       "3   Mechanical_Problems   \n",
       "4  Calibration_Problems   \n",
       "\n",
       "                                                                                                                                                                                                                                                                        Event_description  \\\n",
       "0                                                                                                              it was reported to resmed that an astral device failed to complete its internal selftest there was no patient harm or serious injury reported as a result of this incident   \n",
       "1  complainant alleged that while attempting to treat a patient age  gender unknown the device did not operate correctly this is all the information available at this time complainant did not indicate that there was any adverse effect to the patient due to the reported malfunction   \n",
       "2         the customer reported that the avea ventilators vte was reading 1 69 monitored and 878 delivered when set at 500 vti was way off as well and peep was reading 8 8 when set at 6 the customer confirmed that there was no patient involvement associated with the reported event   \n",
       "3                                                                                                               the customer reported to vyaire medical that the vela ventilator fio2 is out of spec at this time there is no information about patient involvement on the reported event   \n",
       "4                                                                                                              it was reported to resmed that an astral device failed to complete its internal selftest there was no patient harm or serious injury reported as a result of this incident   \n",
       "\n",
       "                                                                                                                                                                                                             Narrative  \\\n",
       "0    the device was returned to an authorized resmed third party service center for an evaluation and service the customer was issued with a replacement nonreturn valve nrv assembly as a part of a warranty claim b4   \n",
       "1                                                                                                  zoll medical corporation has not received the device for evaluation and this complaint is still under investigation   \n",
       "2                                                                                                                 vyaire complaint  b4 at this time vyaire has not received the suspect devicecomponent for evaluation   \n",
       "3  b4 any additional information received from the customer will be included in a followup report at this time the suspect device has not been returned for evaluation therefore no root cause could be determined yet   \n",
       "4                                                        the device was returned to resmed and an evaluation confirmed the complaint the nonreturn valve assembly nrv will need to be replaced to address the issue b4   \n",
       "\n",
       "                                                                                                                                                                                                                                                                                                                                                                                 Event_description_Narrative  \n",
       "0                it was reported to resmed that an astral device failed to complete its internal selftest there was no patient harm or serious injury reported as a result of this incidentthe device was returned to an authorized resmed third party service center for an evaluation and service the customer was issued with a replacement nonreturn valve nrv assembly as a part of a warranty claim b4  \n",
       "1  complainant alleged that while attempting to treat a patient age  gender unknown the device did not operate correctly this is all the information available at this time complainant did not indicate that there was any adverse effect to the patient due to the reported malfunctionzoll medical corporation has not received the device for evaluation and this complaint is still under investigation  \n",
       "2                        the customer reported that the avea ventilators vte was reading 1 69 monitored and 878 delivered when set at 500 vti was way off as well and peep was reading 8 8 when set at 6 the customer confirmed that there was no patient involvement associated with the reported eventvyaire complaint  b4 at this time vyaire has not received the suspect devicecomponent for evaluation  \n",
       "3               the customer reported to vyaire medical that the vela ventilator fio2 is out of spec at this time there is no information about patient involvement on the reported eventb4 any additional information received from the customer will be included in a followup report at this time the suspect device has not been returned for evaluation therefore no root cause could be determined yet  \n",
       "4                                                                    it was reported to resmed that an astral device failed to complete its internal selftest there was no patient harm or serious injury reported as a result of this incidentthe device was returned to resmed and an evaluation confirmed the complaint the nonreturn valve assembly nrv will need to be replaced to address the issue b4  "
      ]
     },
     "execution_count": 4,
     "metadata": {},
     "output_type": "execute_result"
    }
   ],
   "source": [
    "df = df.sample(frac=1).reset_index(drop=True)\n",
    "df=df.drop(df.columns[[0]], axis = 1)\n",
    "print(len(pd.DataFrame(df)))\n",
    "df.head()"
   ]
  },
  {
   "cell_type": "markdown",
   "metadata": {},
   "source": [
    "# Corpus "
   ]
  },
  {
   "cell_type": "markdown",
   "metadata": {},
   "source": [
    "# Each corpus represents documents of the same Device_problem category"
   ]
  },
  {
   "cell_type": "code",
   "execution_count": 5,
   "metadata": {},
   "outputs": [
    {
     "name": "stdout",
     "output_type": "stream",
     "text": [
      "['the customer reported battery needs replaced it is unknown if the ventilator was being used on a patient at the time that the error was discovered confirmation has been requesteddate of event b6 2020 date of report 24apr2020', 'the customer reported a ventilator that would not charge the battery there was no patient involvementdate of event b6 2020 date of report 28apr2020', 'it was reported to resmed that an astral device had a power source detection issue there was no patient harm or a serious injury reported as a result of this incidentthe device was returned to resmed and an evaluation confirmed the complaint the main circuit board will be replaced to address the issue resmed reference b4']\n",
      "A total of 24 Power_Problems have been collected\n"
     ]
    }
   ],
   "source": [
    "DI=0      # desired initial index\n",
    "DE=5383   # desired end index\n",
    "#Pandas DataFrame dropna() function is used to remove rows and columns with Null/NaN values.\n",
    "# in list form\n",
    "P_P_list=(list(df['Event_description_Narrative'][DI:DE].where(df['Device_Problems'] == 'Power_Problems').dropna()))[:24]\n",
    "C_F_list=(list(df['Event_description_Narrative'][DI:DE].where(df['Device_Problems'] == 'Circuit_failure').dropna()))[:24]\n",
    "M_P_list=(list(df['Event_description_Narrative'][DI:DE].where(df['Device_Problems'] == 'Mechanical_Problems').dropna()))[:24]\n",
    "S_P_list=(list(df['Event_description_Narrative'][DI:DE].where(df['Device_Problems'] == 'Software_Problems').dropna()))[:24]\n",
    "C_P_list=(list(df['Event_description_Narrative'][DI:DE].where(df['Device_Problems'] == 'Calibration_Problems').dropna()))[:24]\n",
    "num_P_P = len(P_P_list)\n",
    "print(P_P_list[:3])\n",
    "print(\"A total of \" + str(num_P_P) + \" Power_Problems have been collected\")"
   ]
  },
  {
   "cell_type": "markdown",
   "metadata": {},
   "source": [
    "# Pairs of documents"
   ]
  },
  {
   "cell_type": "code",
   "execution_count": 6,
   "metadata": {},
   "outputs": [
    {
     "name": "stdout",
     "output_type": "stream",
     "text": [
      "There are a total of 276 pairs\n",
      "Displaying first 10 pairs: \n"
     ]
    },
    {
     "data": {
      "text/plain": [
       "[('Document_0', 'Document_1'),\n",
       " ('Document_0', 'Document_2'),\n",
       " ('Document_0', 'Document_3'),\n",
       " ('Document_0', 'Document_4'),\n",
       " ('Document_0', 'Document_5'),\n",
       " ('Document_0', 'Document_6'),\n",
       " ('Document_0', 'Document_7'),\n",
       " ('Document_0', 'Document_8'),\n",
       " ('Document_0', 'Document_9'),\n",
       " ('Document_0', 'Document_10')]"
      ]
     },
     "metadata": {},
     "output_type": "display_data"
    },
    {
     "name": "stdout",
     "output_type": "stream",
     "text": [
      "....\n",
      "Displaying last 10 pairs: \n"
     ]
    },
    {
     "data": {
      "text/plain": [
       "[('Document_19', 'Document_20'),\n",
       " ('Document_19', 'Document_21'),\n",
       " ('Document_19', 'Document_22'),\n",
       " ('Document_19', 'Document_23'),\n",
       " ('Document_20', 'Document_21'),\n",
       " ('Document_20', 'Document_22'),\n",
       " ('Document_20', 'Document_23'),\n",
       " ('Document_21', 'Document_22'),\n",
       " ('Document_21', 'Document_23'),\n",
       " ('Document_22', 'Document_23')]"
      ]
     },
     "metadata": {},
     "output_type": "display_data"
    }
   ],
   "source": [
    "# label Documents as Document_1, Document_2 .. Document_n\n",
    "Documentids = [\"Document_\" + str(i) for i in range(num_P_P)]\n",
    "\n",
    "# create a dictionary\n",
    "Document_dict = dict(zip(Documentids, P_P_list))\n",
    "\n",
    "# get all the book ids in a list\n",
    "ids = list(Document_dict.keys())\n",
    "#print((ids))\n",
    "\n",
    "# create all possible pairs\n",
    "pairs = []\n",
    "# create a list of tuples\n",
    "for i, v in enumerate(ids):\n",
    "    for j in ids[i+1:]:\n",
    "        pairs.append((ids[i], j))\n",
    "\n",
    "print(\"There are a total of \" + str(len(pairs)) + \" pairs\")\n",
    "print(\"Displaying first 10 pairs: \")\n",
    "display(pairs[:10])\n",
    "print(\"....\")\n",
    "print(\"Displaying last 10 pairs: \")\n",
    "display(pairs[-10:])"
   ]
  },
  {
   "cell_type": "markdown",
   "metadata": {},
   "source": [
    "# Functions for pre-processing and plotting"
   ]
  },
  {
   "cell_type": "code",
   "execution_count": 27,
   "metadata": {},
   "outputs": [],
   "source": [
    "from sklearn.feature_extraction.text import CountVectorizer, TfidfVectorizer\n",
    "import numpy as np\n",
    "import seaborn as sns\n",
    "import matplotlib.pyplot as plt\n",
    "\n",
    "def plot_heatmap(df_hm, xlabels, ylabels):\n",
    "    \"\"\"\n",
    "    Given a dataframe containing similarity grid, plot the heatmap\n",
    "    \"\"\"\n",
    "    sns.set(style=\"white\")\n",
    "\n",
    "    # Set up the matplotlib figure\n",
    "    # (to enlarge the cells, increase the figure size)\n",
    "    f, ax = plt.subplots(figsize=(8, 8))\n",
    "\n",
    "    # Generate a custom diverging colormap\n",
    "    #cmap = sns.color_palette(\"rocket_r\", as_cmap=True)\n",
    "    #\"magma\"\n",
    "    cmap = sns.diverging_palette(220, 20, as_cmap=True)\n",
    "\n",
    "    # Generate a mask for the upper triangle\n",
    "    mask = np.zeros_like(df_hm, dtype=np.bool)\n",
    "    mask[np.triu_indices_from(mask)] = True\n",
    "\n",
    "    # Draw the heatmap with the mask and correct aspect ratio\n",
    "    sns.heatmap(df_hm, mask=mask, cmap=cmap, center=1,\n",
    "            xticklabels=xlabels, yticklabels=ylabels,\n",
    "            square=True, linewidths=.005, fmt='.2f', vmax=1)\n",
    "\n",
    "    ax.set_title(\"Cosine similarity scores Power_Problems documents\").set_fontsize(15)\n",
    "    ax.set_xlabel(\"\")\n",
    "    ax.set_ylabel(\"\")\n",
    "\n",
    "    return ax\n",
    "\n",
    "\n",
    "\n",
    "import re\n",
    "import pandas as pd\n",
    "import numpy as np\n",
    "import nltk\n",
    "import string\n",
    "from nltk.stem import LancasterStemmer\n",
    "from nltk.stem import WordNetLemmatizer\n",
    "\n",
    "# tokenize text\n",
    "def tokenize_text(document_text):\n",
    "    TOKEN_PATTERN = r'\\s+'\n",
    "    regex_wt = nltk.RegexpTokenizer(pattern=TOKEN_PATTERN, gaps=True)\n",
    "    word_tokens = regex_wt.tokenize(document_text)\n",
    "    return word_tokens\n",
    "\n",
    "def remove_stopwords(tokens):\n",
    "    stopword_list = nltk.corpus.stopwords.words('english')\n",
    "    filtered_tokens = [token for token in tokens if token not in stopword_list]\n",
    "    return filtered_tokens\n",
    "\n",
    "def apply_lemmatization(tokens, wnl=WordNetLemmatizer()):\n",
    "    return [wnl.lemmatize(token) for token in tokens]\n",
    "\n",
    "def cleanTextdocuments(document_texts):\n",
    "    clean_documents = []\n",
    "    for document in document_texts:\n",
    "        document_i = tokenize_text(document)\n",
    "        document_i = remove_stopwords(document_i)\n",
    "        document_i = apply_lemmatization(document_i)\n",
    "        clean_documents.append(document_i)\n",
    "    return clean_documents\n",
    "\n"
   ]
  },
  {
   "cell_type": "markdown",
   "metadata": {},
   "source": [
    "# Clean data in the Corpus [from Stop words and applying lemmatization]"
   ]
  },
  {
   "cell_type": "code",
   "execution_count": 29,
   "metadata": {},
   "outputs": [
    {
     "data": {
      "text/plain": [
       "['customer reported battery need replaced unknown ventilator used patient time error discovered confirmation requesteddate event b6 2020 date report 24apr2020',\n",
       " 'customer reported ventilator would charge battery patient involvementdate event b6 2020 date report 28apr2020',\n",
       " 'reported resmed astral device power source detection issue patient harm serious injury reported result incidentthe device returned resmed evaluation confirmed complaint main circuit board replaced address issue resmed reference b4']"
      ]
     },
     "metadata": {},
     "output_type": "display_data"
    }
   ],
   "source": [
    "# cleanTextBooks takes a list of strings and returns a list of lists\n",
    "corpus = cleanTextdocuments(P_P_list)\n",
    "# convert list of lists into a list of strings\n",
    "norm_Document_corpus = [' '.join(text) for text in corpus]\n",
    "\n",
    "# display normalized corpus\n",
    "display(norm_Document_corpus[:3])"
   ]
  },
  {
   "cell_type": "markdown",
   "metadata": {},
   "source": [
    "# TF-IDF ( Vectorization )"
   ]
  },
  {
   "cell_type": "code",
   "execution_count": 32,
   "metadata": {},
   "outputs": [
    {
     "data": {
      "text/plain": [
       "TfidfVectorizer(min_df=0.0)"
      ]
     },
     "execution_count": 32,
     "metadata": {},
     "output_type": "execute_result"
    }
   ],
   "source": [
    "from sklearn.feature_extraction.text import TfidfVectorizer\n",
    "\n",
    "vectorizer = TfidfVectorizer(min_df=0.0, max_df=1.0, ngram_range=(1,1))\n",
    "vectorizer"
   ]
  },
  {
   "cell_type": "code",
   "execution_count": 33,
   "metadata": {},
   "outputs": [
    {
     "data": {
      "text/plain": [
       "TfidfVectorizer(min_df=0.0)"
      ]
     },
     "execution_count": 33,
     "metadata": {},
     "output_type": "execute_result"
    }
   ],
   "source": [
    "TfidfVectorizer(analyzer='word', binary=False, decode_error='strict',\n",
    "        dtype=np.float64, encoding='utf-8', input='content',\n",
    "        lowercase=True, max_df=1.0, max_features=None, min_df=0.0,\n",
    "        ngram_range=(1, 1), norm='l2', preprocessor=None, smooth_idf=True,\n",
    "        stop_words=None, strip_accents=None, sublinear_tf=False,\n",
    "        token_pattern='(?u)\\\\b\\\\w\\\\w+\\\\b', tokenizer=None, use_idf=True,\n",
    "        vocabulary=None)"
   ]
  },
  {
   "cell_type": "code",
   "execution_count": 34,
   "metadata": {},
   "outputs": [
    {
     "data": {
      "text/plain": [
       "(24, 180)"
      ]
     },
     "metadata": {},
     "output_type": "display_data"
    },
    {
     "data": {
      "text/plain": [
       "<1x180 sparse matrix of type '<class 'numpy.float64'>'\n",
       "\twith 20 stored elements in Compressed Sparse Row format>"
      ]
     },
     "metadata": {},
     "output_type": "display_data"
    },
    {
     "data": {
      "text/plain": [
       "array([0.        , 0.        , 0.        , 0.        , 0.21628504,\n",
       "       0.        , 0.29223243, 0.        , 0.        , 0.        ,\n",
       "       0.        , 0.        , 0.        , 0.        , 0.        ,\n",
       "       0.        , 0.        , 0.        , 0.        , 0.        ,\n",
       "       0.21628504, 0.        , 0.13094433, 0.        , 0.        ,\n",
       "       0.        , 0.        , 0.        , 0.        , 0.        ,\n",
       "       0.        , 0.        , 0.        , 0.        , 0.        ,\n",
       "       0.        , 0.        , 0.        , 0.        , 0.        ,\n",
       "       0.        , 0.        , 0.29223243, 0.        , 0.        ,\n",
       "       0.        , 0.        , 0.11485158, 0.        , 0.21628504,\n",
       "       0.        , 0.        , 0.        , 0.        , 0.        ,\n",
       "       0.        , 0.        , 0.        , 0.        , 0.29223243,\n",
       "       0.        , 0.        , 0.        , 0.        , 0.25862517,\n",
       "       0.        , 0.        , 0.15883307, 0.        , 0.        ,\n",
       "       0.        , 0.        , 0.        , 0.        , 0.        ,\n",
       "       0.        , 0.        , 0.        , 0.        , 0.        ,\n",
       "       0.        , 0.        , 0.        , 0.        , 0.        ,\n",
       "       0.        , 0.        , 0.        , 0.        , 0.        ,\n",
       "       0.        , 0.        , 0.        , 0.        , 0.        ,\n",
       "       0.        , 0.        , 0.        , 0.        , 0.        ,\n",
       "       0.        , 0.        , 0.        , 0.        , 0.        ,\n",
       "       0.25862517, 0.        , 0.        , 0.        , 0.        ,\n",
       "       0.        , 0.        , 0.        , 0.        , 0.08288568,\n",
       "       0.        , 0.        , 0.        , 0.        , 0.        ,\n",
       "       0.        , 0.        , 0.        , 0.        , 0.        ,\n",
       "       0.        , 0.        , 0.        , 0.        , 0.        ,\n",
       "       0.13094433, 0.        , 0.17732847, 0.08288568, 0.        ,\n",
       "       0.        , 0.29223243, 0.        , 0.        , 0.        ,\n",
       "       0.        , 0.        , 0.        , 0.        , 0.        ,\n",
       "       0.        , 0.        , 0.        , 0.        , 0.        ,\n",
       "       0.        , 0.        , 0.        , 0.        , 0.        ,\n",
       "       0.        , 0.        , 0.        , 0.        , 0.        ,\n",
       "       0.        , 0.        , 0.        , 0.2011732 , 0.        ,\n",
       "       0.        , 0.        , 0.        , 0.        , 0.29223243,\n",
       "       0.        , 0.29223243, 0.23478045, 0.        , 0.        ,\n",
       "       0.        , 0.        , 0.        , 0.        , 0.        ])"
      ]
     },
     "metadata": {},
     "output_type": "display_data"
    },
    {
     "data": {
      "text/plain": [
       "(180,)"
      ]
     },
     "metadata": {},
     "output_type": "display_data"
    },
    {
     "data": {
      "text/plain": [
       "'customer reported battery need replaced unknown ventilator used patient time error discovered confirmation requesteddate event b6 2020 date report 24apr2020'"
      ]
     },
     "metadata": {},
     "output_type": "display_data"
    }
   ],
   "source": [
    "# calculate the feature matrix\n",
    "feature_matrix = vectorizer.fit_transform(norm_Document_corpus).astype(float)\n",
    "\n",
    "# display the shape of feature matrix\n",
    "display(feature_matrix.shape)\n",
    "\n",
    "# display the first feature vector\n",
    "display(feature_matrix[0])\n",
    "\n",
    "# display the dense version of the feature vector\n",
    "display(feature_matrix.toarray()[0])\n",
    "\n",
    "# display the shape of dense feature vector\n",
    "display(feature_matrix.toarray()[0].shape)\n",
    "\n",
    "# display the first document text\n",
    "display(norm_Document_corpus[0])"
   ]
  },
  {
   "cell_type": "markdown",
   "metadata": {},
   "source": [
    "# Cosine Similarity"
   ]
  },
  {
   "cell_type": "code",
   "execution_count": 35,
   "metadata": {},
   "outputs": [],
   "source": [
    "def compute_cosine_similarity(pair):\n",
    "\n",
    "    # extract the indexes from the pair\n",
    "    document1, document2 = pair\n",
    "\n",
    "    # split on _ and get index\n",
    "    document1_index = int(document1.split(\"_\")[1])\n",
    "    document2_index = int(document2.split(\"_\")[1])\n",
    "\n",
    "    # get the feature matrix of the document\n",
    "    document1_fm = feature_matrix.toarray()[document1_index]\n",
    "    document2_fm = feature_matrix.toarray()[document2_index]\n",
    "\n",
    "    # compute cosine similarity manually\n",
    "    manual_cosine_similarity = np.dot(document1_fm, document2_fm)\n",
    "\n",
    "    return manual_cosine_similarity"
   ]
  },
  {
   "cell_type": "markdown",
   "metadata": {},
   "source": [
    "# Cosine Similarity Scores"
   ]
  },
  {
   "cell_type": "code",
   "execution_count": 37,
   "metadata": {},
   "outputs": [
    {
     "data": {
      "text/html": [
       "<div>\n",
       "<style scoped>\n",
       "    .dataframe tbody tr th:only-of-type {\n",
       "        vertical-align: middle;\n",
       "    }\n",
       "\n",
       "    .dataframe tbody tr th {\n",
       "        vertical-align: top;\n",
       "    }\n",
       "\n",
       "    .dataframe thead th {\n",
       "        text-align: right;\n",
       "    }\n",
       "</style>\n",
       "<table border=\"1\" class=\"dataframe\">\n",
       "  <thead>\n",
       "    <tr style=\"text-align: right;\">\n",
       "      <th></th>\n",
       "      <th>pair</th>\n",
       "      <th>similarity</th>\n",
       "    </tr>\n",
       "  </thead>\n",
       "  <tbody>\n",
       "    <tr>\n",
       "      <th>0</th>\n",
       "      <td>(Document_0, Document_1)</td>\n",
       "      <td>0.396670</td>\n",
       "    </tr>\n",
       "    <tr>\n",
       "      <th>1</th>\n",
       "      <td>(Document_0, Document_2)</td>\n",
       "      <td>0.047835</td>\n",
       "    </tr>\n",
       "    <tr>\n",
       "      <th>2</th>\n",
       "      <td>(Document_0, Document_3)</td>\n",
       "      <td>0.067964</td>\n",
       "    </tr>\n",
       "    <tr>\n",
       "      <th>3</th>\n",
       "      <td>(Document_0, Document_4)</td>\n",
       "      <td>0.086777</td>\n",
       "    </tr>\n",
       "    <tr>\n",
       "      <th>4</th>\n",
       "      <td>(Document_0, Document_5)</td>\n",
       "      <td>0.038350</td>\n",
       "    </tr>\n",
       "  </tbody>\n",
       "</table>\n",
       "</div>"
      ],
      "text/plain": [
       "                       pair  similarity\n",
       "0  (Document_0, Document_1)    0.396670\n",
       "1  (Document_0, Document_2)    0.047835\n",
       "2  (Document_0, Document_3)    0.067964\n",
       "3  (Document_0, Document_4)    0.086777\n",
       "4  (Document_0, Document_5)    0.038350"
      ]
     },
     "metadata": {},
     "output_type": "display_data"
    },
    {
     "data": {
      "text/html": [
       "<div>\n",
       "<style scoped>\n",
       "    .dataframe tbody tr th:only-of-type {\n",
       "        vertical-align: middle;\n",
       "    }\n",
       "\n",
       "    .dataframe tbody tr th {\n",
       "        vertical-align: top;\n",
       "    }\n",
       "\n",
       "    .dataframe thead th {\n",
       "        text-align: right;\n",
       "    }\n",
       "</style>\n",
       "<table border=\"1\" class=\"dataframe\">\n",
       "  <thead>\n",
       "    <tr style=\"text-align: right;\">\n",
       "      <th></th>\n",
       "      <th>pair</th>\n",
       "      <th>similarity</th>\n",
       "    </tr>\n",
       "  </thead>\n",
       "  <tbody>\n",
       "    <tr>\n",
       "      <th>271</th>\n",
       "      <td>(Document_20, Document_22)</td>\n",
       "      <td>0.406939</td>\n",
       "    </tr>\n",
       "    <tr>\n",
       "      <th>272</th>\n",
       "      <td>(Document_20, Document_23)</td>\n",
       "      <td>0.347811</td>\n",
       "    </tr>\n",
       "    <tr>\n",
       "      <th>273</th>\n",
       "      <td>(Document_21, Document_22)</td>\n",
       "      <td>0.371152</td>\n",
       "    </tr>\n",
       "    <tr>\n",
       "      <th>274</th>\n",
       "      <td>(Document_21, Document_23)</td>\n",
       "      <td>0.393883</td>\n",
       "    </tr>\n",
       "    <tr>\n",
       "      <th>275</th>\n",
       "      <td>(Document_22, Document_23)</td>\n",
       "      <td>0.594055</td>\n",
       "    </tr>\n",
       "  </tbody>\n",
       "</table>\n",
       "</div>"
      ],
      "text/plain": [
       "                           pair  similarity\n",
       "271  (Document_20, Document_22)    0.406939\n",
       "272  (Document_20, Document_23)    0.347811\n",
       "273  (Document_21, Document_22)    0.371152\n",
       "274  (Document_21, Document_23)    0.393883\n",
       "275  (Document_22, Document_23)    0.594055"
      ]
     },
     "metadata": {},
     "output_type": "display_data"
    }
   ],
   "source": [
    "pairwise_cosine_similarity = [compute_cosine_similarity(pair) for pair in pairs]\n",
    "\n",
    "# create a dataframe\n",
    "df = pd.DataFrame({'pair': pairs, 'similarity': pairwise_cosine_similarity})\n",
    "display(df.head())\n",
    "display(df.tail())"
   ]
  },
  {
   "cell_type": "markdown",
   "metadata": {},
   "source": [
    "# Heatmap Plot"
   ]
  },
  {
   "cell_type": "code",
   "execution_count": 38,
   "metadata": {},
   "outputs": [
    {
     "data": {
      "image/png": "[encoded data removed]",
      "text/plain": [
       "<Figure size 576x576 with 2 Axes>"
      ]
     },
     "metadata": {},
     "output_type": "display_data"
    }
   ],
   "source": [
    "# initialize an empty dataframe grid\n",
    "df_hm = pd.DataFrame({'ind': range(num_P_P), 'cols': range(num_P_P), 'vals': pd.Series(np.zeros(num_P_P))})\n",
    "\n",
    "# convert to a matrix\n",
    "df_hm = df_hm.pivot(index='ind', columns='cols').fillna(0)\n",
    "\n",
    "# make a copy\n",
    "df_temp = df.copy()\n",
    "\n",
    "# convert list of tuples into 2 lists\n",
    "list1 = []\n",
    "list2 = []\n",
    "for item1, item2 in df_temp.pair:\n",
    "    list1.append(item1)\n",
    "    list2.append(item2)\n",
    "\n",
    "# add two columns to df_temp\n",
    "df_temp['Doucument1'] = list1\n",
    "df_temp['Doucument2'] = list2\n",
    "\n",
    "# drop the pair as it not needed\n",
    "df_temp.drop('pair', axis=1, inplace=True)\n",
    "\n",
    "# extract index so that you can construct pairs\n",
    "df_temp['Doucument1'] = df_temp['Doucument1'].apply(lambda x: int(x.split('_')[-1]))\n",
    "df_temp['Doucument2'] = df_temp['Doucument2'].apply(lambda x: int(x.split('_')[-1]))\n",
    "\n",
    "# create tuples (0, 1, similarity)\n",
    "df_temp['pairs'] = list(zip(df_temp.Doucument1, df_temp.Doucument2, round(df_temp.similarity, 2)))\n",
    "\n",
    "# display(df_temp.head())\n",
    "\n",
    "# to get lower diagnol, swap the rows and cols.\n",
    "for row, col, similarity in df_temp.pairs:\n",
    "    df_hm.iloc[col, row] = similarity\n",
    "\n",
    "ax = plot_heatmap(df_hm, ids, ids)"
   ]
  },
  {
   "cell_type": "markdown",
   "metadata": {},
   "source": [
    "# Max Similarity Score and Min "
   ]
  },
  {
   "cell_type": "code",
   "execution_count": 39,
   "metadata": {},
   "outputs": [
    {
     "data": {
      "text/html": [
       "<div>\n",
       "<style scoped>\n",
       "    .dataframe tbody tr th:only-of-type {\n",
       "        vertical-align: middle;\n",
       "    }\n",
       "\n",
       "    .dataframe tbody tr th {\n",
       "        vertical-align: top;\n",
       "    }\n",
       "\n",
       "    .dataframe thead th {\n",
       "        text-align: right;\n",
       "    }\n",
       "</style>\n",
       "<table border=\"1\" class=\"dataframe\">\n",
       "  <thead>\n",
       "    <tr style=\"text-align: right;\">\n",
       "      <th></th>\n",
       "      <th>pair</th>\n",
       "      <th>similarity</th>\n",
       "    </tr>\n",
       "  </thead>\n",
       "  <tbody>\n",
       "    <tr>\n",
       "      <th>108</th>\n",
       "      <td>(Document_5, Document_9)</td>\n",
       "      <td>1.00000</td>\n",
       "    </tr>\n",
       "    <tr>\n",
       "      <th>16</th>\n",
       "      <td>(Document_0, Document_17)</td>\n",
       "      <td>0.01098</td>\n",
       "    </tr>\n",
       "  </tbody>\n",
       "</table>\n",
       "</div>"
      ],
      "text/plain": [
       "                          pair  similarity\n",
       "108   (Document_5, Document_9)     1.00000\n",
       "16   (Document_0, Document_17)     0.01098"
      ]
     },
     "execution_count": 39,
     "metadata": {},
     "output_type": "execute_result"
    }
   ],
   "source": [
    "df.loc[[df.similarity.values.argmax(), df.similarity.values.argmin()]]"
   ]
  },
  {
   "cell_type": "code",
   "execution_count": 40,
   "metadata": {},
   "outputs": [
    {
     "name": "stdout",
     "output_type": "stream",
     "text": [
      "Most similar books are: \n",
      "it was reported to resmed that an astral device had a power source detection issue there was no patient harm or serious injury reported as a result of this incidentthe device was returned to resmed and an evaluation confirmed the complaint the main circuit board was replaced to address this issue the device was serviced and fully tested before it was returned to the customer based on all available evidence and complaint investigations of a similar nature an investigation determined that the reported complaint was due to an isolated component failure within the device main circuit board pcba resmeds risk analysis for this failure mode concludes that the risk is acceptable b4\n",
      " and \n",
      "it was reported to resmed that an astral device had a power source detection issue there was no patient harm or serious injury reported as a result of this incidentthe device was returned to resmed and an evaluation confirmed the complaint the main circuit board was replaced to address this issue the device was serviced and fully tested before it was returned to the customer based on all available evidence and complaint investigations of a similar nature an investigation determined that the reported complaint was due to an isolated component failure within the device main circuit board pcba resmeds risk analysis for this failure mode concludes that the risk is acceptable b4\n"
     ]
    }
   ],
   "source": [
    "print(\"Most similar books are: \")\n",
    "print(Document_dict['Document_5'])\n",
    "print(\" and \")\n",
    "print(Document_dict['Document_9'])"
   ]
  },
  {
   "cell_type": "code",
   "execution_count": 41,
   "metadata": {},
   "outputs": [
    {
     "name": "stdout",
     "output_type": "stream",
     "text": [
      "Most dissimilar books are: \n",
      "the customer reported battery needs replaced it is unknown if the ventilator was being used on a patient at the time that the error was discovered confirmation has been requesteddate of event b6 2020 date of report 24apr2020\n",
      " and \n",
      "complainant alleged that during a routine shift check by a clinician the device would not power up complainant indicated that there was no patient involvement in the reported malfunctionthe complainant was contacted for return of the device the device has not been returned to zoll for evaluation\n"
     ]
    }
   ],
   "source": [
    "print(\"Most dissimilar books are: \")\n",
    "print(Document_dict['Document_0'])\n",
    "print(\" and \")\n",
    "print(Document_dict['Document_17'])"
   ]
  },
  {
   "cell_type": "code",
   "execution_count": null,
   "metadata": {},
   "outputs": [],
   "source": []
  }
 ],
 "metadata": {
  "kernelspec": {
   "display_name": "Python 3",
   "language": "python",
   "name": "python3"
  },
  "language_info": {
   "codemirror_mode": {
    "name": "ipython",
    "version": 3
   },
   "file_extension": ".py",
   "mimetype": "text/x-python",
   "name": "python",
   "nbconvert_exporter": "python",
   "pygments_lexer": "ipython3",
   "version": "3.8.5"
  }
 },
 "nbformat": 4,
 "nbformat_minor": 4
}
