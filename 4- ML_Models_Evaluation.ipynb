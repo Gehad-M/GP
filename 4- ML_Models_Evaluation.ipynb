{
 "cells": [
  {
   "cell_type": "markdown",
   "metadata": {},
   "source": [
    "# MultiClass Text classification for the ICU ventilator adverse events reports in 2020\n"
   ]
  },
  {
   "cell_type": "code",
   "execution_count": 1,
   "metadata": {},
   "outputs": [
    {
     "name": "stdout",
     "output_type": "stream",
     "text": [
      "5383\n"
     ]
    },
    {
     "data": {
      "text/html": [
       "<div>\n",
       "<style scoped>\n",
       "    .dataframe tbody tr th:only-of-type {\n",
       "        vertical-align: middle;\n",
       "    }\n",
       "\n",
       "    .dataframe tbody tr th {\n",
       "        vertical-align: top;\n",
       "    }\n",
       "\n",
       "    .dataframe thead th {\n",
       "        text-align: right;\n",
       "    }\n",
       "</style>\n",
       "<table border=\"1\" class=\"dataframe\">\n",
       "  <thead>\n",
       "    <tr style=\"text-align: right;\">\n",
       "      <th></th>\n",
       "      <th>Device_Problems</th>\n",
       "      <th>Event_description</th>\n",
       "      <th>Narrative</th>\n",
       "      <th>Event_description_Narrative</th>\n",
       "    </tr>\n",
       "  </thead>\n",
       "  <tbody>\n",
       "    <tr>\n",
       "      <th>0</th>\n",
       "      <td>Calibration_Problems</td>\n",
       "      <td>it was reported to resmed that an astral device failed to complete its internal selftest there was no patient harm or serious injury reported as a result of this incident</td>\n",
       "      <td>the device was returned to resmed and an evaluation confirmed the complaint the pneumatic block sensor circuit board was replaced to address the issue the device was serviced and fully tested before it was returned to the customer resmed reference b4</td>\n",
       "      <td>it was reported to resmed that an astral device failed to complete its internal selftest there was no patient harm or serious injury reported as a result of this incidentthe device was returned to resmed and an evaluation confirmed the complaint the pneumatic block sensor circuit board was replaced to address the issue the device was serviced and fully tested before it was returned to the customer resmed reference b4</td>\n",
       "    </tr>\n",
       "    <tr>\n",
       "      <th>1</th>\n",
       "      <td>Circuit_failure</td>\n",
       "      <td>the customer reported that the avea ventilator has an internal leak there is no patient involvement</td>\n",
       "      <td>b4 any additional information received from the customer will be included in a followup report at this time the suspect device has not been returned for evaluation therefore no root cause could be determined yet</td>\n",
       "      <td>the customer reported that the avea ventilator has an internal leak there is no patient involvementb4 any additional information received from the customer will be included in a followup report at this time the suspect device has not been returned for evaluation therefore no root cause could be determined yet</td>\n",
       "    </tr>\n",
       "    <tr>\n",
       "      <th>2</th>\n",
       "      <td>Mechanical_Problems</td>\n",
       "      <td>the customer reported to vyaire that lap top ventilator 1200 ventilator stated an error not to use it is also not working or cycling the issue occurred during patientuse the customer confirmed that there was no patient harm associated with the reported event</td>\n",
       "      <td>at this time the suspect device has not been returned for evaluation therefore no root cause could be determine yet vyaire medical will submit a supplemental report in accordance with 21 cfr section 803 56 if additional information becomes available</td>\n",
       "      <td>the customer reported to vyaire that lap top ventilator 1200 ventilator stated an error not to use it is also not working or cycling the issue occurred during patientuse the customer confirmed that there was no patient harm associated with the reported eventat this time the suspect device has not been returned for evaluation therefore no root cause could be determine yet vyaire medical will submit a supplemental report in accordance with 21 cfr section 803 56 if additional information become...</td>\n",
       "    </tr>\n",
       "    <tr>\n",
       "      <th>3</th>\n",
       "      <td>Mechanical_Problems</td>\n",
       "      <td>the customer reported that the ltv 1200 ventilator was sucked into the mri and the unit shuts on and off intermittently the issue occurred during patientuse and the device was replaced with another ventilator the customer confirmed that there was no patient harm associated with the reported event</td>\n",
       "      <td>the suspect device was returned and evaluation is anticipated but not yet begun once a final investigation is complete a followup report will be submitted any additional information received from the customer will be included in a followup report</td>\n",
       "      <td>the customer reported that the ltv 1200 ventilator was sucked into the mri and the unit shuts on and off intermittently the issue occurred during patientuse and the device was replaced with another ventilator the customer confirmed that there was no patient harm associated with the reported eventthe suspect device was returned and evaluation is anticipated but not yet begun once a final investigation is complete a followup report will be submitted any additional information received from the...</td>\n",
       "    </tr>\n",
       "    <tr>\n",
       "      <th>4</th>\n",
       "      <td>Circuit_failure</td>\n",
       "      <td>the customer reported that the revel has o2 leak led array damaged and broken pigtail as of this time there was no information about patient involvement associated with this reported event</td>\n",
       "      <td>the defective unit was evaluated by the third party service technician the led assembly and pigtail was replaced vyaire medical will submit a supplemental report in accordance with 21 cfr section 803 56 if additional information becomes available</td>\n",
       "      <td>the customer reported that the revel has o2 leak led array damaged and broken pigtail as of this time there was no information about patient involvement associated with this reported eventthe defective unit was evaluated by the third party service technician the led assembly and pigtail was replaced vyaire medical will submit a supplemental report in accordance with 21 cfr section 803 56 if additional information becomes available</td>\n",
       "    </tr>\n",
       "  </tbody>\n",
       "</table>\n",
       "</div>"
      ],
      "text/plain": [
       "        Device_Problems  \\\n",
       "0  Calibration_Problems   \n",
       "1       Circuit_failure   \n",
       "2   Mechanical_Problems   \n",
       "3   Mechanical_Problems   \n",
       "4       Circuit_failure   \n",
       "\n",
       "                                                                                                                                                                                                                                                                                           Event_description  \\\n",
       "0                                                                                                                                 it was reported to resmed that an astral device failed to complete its internal selftest there was no patient harm or serious injury reported as a result of this incident   \n",
       "1                                                                                                                                                                                                        the customer reported that the avea ventilator has an internal leak there is no patient involvement   \n",
       "2                                         the customer reported to vyaire that lap top ventilator 1200 ventilator stated an error not to use it is also not working or cycling the issue occurred during patientuse the customer confirmed that there was no patient harm associated with the reported event   \n",
       "3  the customer reported that the ltv 1200 ventilator was sucked into the mri and the unit shuts on and off intermittently the issue occurred during patientuse and the device was replaced with another ventilator the customer confirmed that there was no patient harm associated with the reported event   \n",
       "4                                                                                                               the customer reported that the revel has o2 leak led array damaged and broken pigtail as of this time there was no information about patient involvement associated with this reported event   \n",
       "\n",
       "                                                                                                                                                                                                                                                    Narrative  \\\n",
       "0  the device was returned to resmed and an evaluation confirmed the complaint the pneumatic block sensor circuit board was replaced to address the issue the device was serviced and fully tested before it was returned to the customer resmed reference b4   \n",
       "1                                         b4 any additional information received from the customer will be included in a followup report at this time the suspect device has not been returned for evaluation therefore no root cause could be determined yet   \n",
       "2   at this time the suspect device has not been returned for evaluation therefore no root cause could be determine yet vyaire medical will submit a supplemental report in accordance with 21 cfr section 803 56 if additional information becomes available   \n",
       "3      the suspect device was returned and evaluation is anticipated but not yet begun once a final investigation is complete a followup report will be submitted any additional information received from the customer will be included in a followup report   \n",
       "4      the defective unit was evaluated by the third party service technician the led assembly and pigtail was replaced vyaire medical will submit a supplemental report in accordance with 21 cfr section 803 56 if additional information becomes available   \n",
       "\n",
       "                                                                                                                                                                                                                                                                                                                                                                                                                                                                                           Event_description_Narrative  \n",
       "0                                                                                 it was reported to resmed that an astral device failed to complete its internal selftest there was no patient harm or serious injury reported as a result of this incidentthe device was returned to resmed and an evaluation confirmed the complaint the pneumatic block sensor circuit board was replaced to address the issue the device was serviced and fully tested before it was returned to the customer resmed reference b4  \n",
       "1                                                                                                                                                                                               the customer reported that the avea ventilator has an internal leak there is no patient involvementb4 any additional information received from the customer will be included in a followup report at this time the suspect device has not been returned for evaluation therefore no root cause could be determined yet  \n",
       "2  the customer reported to vyaire that lap top ventilator 1200 ventilator stated an error not to use it is also not working or cycling the issue occurred during patientuse the customer confirmed that there was no patient harm associated with the reported eventat this time the suspect device has not been returned for evaluation therefore no root cause could be determine yet vyaire medical will submit a supplemental report in accordance with 21 cfr section 803 56 if additional information become...  \n",
       "3  the customer reported that the ltv 1200 ventilator was sucked into the mri and the unit shuts on and off intermittently the issue occurred during patientuse and the device was replaced with another ventilator the customer confirmed that there was no patient harm associated with the reported eventthe suspect device was returned and evaluation is anticipated but not yet begun once a final investigation is complete a followup report will be submitted any additional information received from the...  \n",
       "4                                                                   the customer reported that the revel has o2 leak led array damaged and broken pigtail as of this time there was no information about patient involvement associated with this reported eventthe defective unit was evaluated by the third party service technician the led assembly and pigtail was replaced vyaire medical will submit a supplemental report in accordance with 21 cfr section 803 56 if additional information becomes available  "
      ]
     },
     "execution_count": 1,
     "metadata": {},
     "output_type": "execute_result"
    }
   ],
   "source": [
    "from sklearn.feature_extraction.text import CountVectorizer\n",
    "from sklearn.model_selection import train_test_split\n",
    "from sklearn.feature_extraction.text import CountVectorizer\n",
    "from sklearn.feature_extraction.text import TfidfTransformer\n",
    "from sklearn.naive_bayes import MultinomialNB\n",
    "from sklearn.linear_model import LogisticRegression\n",
    "from sklearn.svm import LinearSVC\n",
    "from sklearn.metrics import confusion_matrix\n",
    "from sklearn.model_selection import cross_val_score\n",
    "from sklearn.feature_selection import chi2\n",
    "from collections import Counter\n",
    "import matplotlib.pyplot as plt\n",
    "import seaborn as sns\n",
    "import pandas as pd\n",
    "import numpy as np\n",
    "import itertools\n",
    "import string\n",
    "import io\n",
    "import re\n",
    "pd.options.display.max_colwidth=500\n",
    "df=pd.read_csv(\"CBK2020transformed.csv\")\n",
    "df=df.drop(df.columns[[0]], axis = 1)\n",
    "df = df.sample(frac=1).reset_index(drop=False)\n",
    "df=df.drop(df.columns[[0]], axis = 1)\n",
    "print(len(pd.DataFrame(df)))\n",
    "df.head()"
   ]
  },
  {
   "cell_type": "markdown",
   "metadata": {},
   "source": [
    "# Number of reports for each Device_problem category "
   ]
  },
  {
   "cell_type": "code",
   "execution_count": 2,
   "metadata": {},
   "outputs": [
    {
     "name": "stdout",
     "output_type": "stream",
     "text": [
      "Number_Of_Device_Problems = 5\n"
     ]
    },
    {
     "data": {
      "text/html": [
       "<div>\n",
       "<style scoped>\n",
       "    .dataframe tbody tr th:only-of-type {\n",
       "        vertical-align: middle;\n",
       "    }\n",
       "\n",
       "    .dataframe tbody tr th {\n",
       "        vertical-align: top;\n",
       "    }\n",
       "\n",
       "    .dataframe thead th {\n",
       "        text-align: right;\n",
       "    }\n",
       "</style>\n",
       "<table border=\"1\" class=\"dataframe\">\n",
       "  <thead>\n",
       "    <tr style=\"text-align: right;\">\n",
       "      <th></th>\n",
       "      <th>Device_Problems</th>\n",
       "    </tr>\n",
       "  </thead>\n",
       "  <tbody>\n",
       "    <tr>\n",
       "      <th>Mechanical</th>\n",
       "      <td>1937</td>\n",
       "    </tr>\n",
       "    <tr>\n",
       "      <th>Circuit</th>\n",
       "      <td>1566</td>\n",
       "    </tr>\n",
       "    <tr>\n",
       "      <th>Calibration</th>\n",
       "      <td>1186</td>\n",
       "    </tr>\n",
       "    <tr>\n",
       "      <th>Power</th>\n",
       "      <td>612</td>\n",
       "    </tr>\n",
       "    <tr>\n",
       "      <th>Software</th>\n",
       "      <td>82</td>\n",
       "    </tr>\n",
       "  </tbody>\n",
       "</table>\n",
       "</div>"
      ],
      "text/plain": [
       "             Device_Problems\n",
       "Mechanical              1937\n",
       "Circuit                 1566\n",
       "Calibration             1186\n",
       "Power                    612\n",
       "Software                  82"
      ]
     },
     "execution_count": 2,
     "metadata": {},
     "output_type": "execute_result"
    }
   ],
   "source": [
    "Names_red_DP_list=['Calibration_Problems','Software_Problems','Circuit_failure','Power_Problems','Mechanical_Problems']\n",
    "Names_DP_list=['Calibration','Software','Circuit','Power','Mechanical']\n",
    "for i in range(0, len(Names_red_DP_list)):\n",
    "    df.Device_Problems= df.Device_Problems.replace(Names_red_DP_list[i],Names_DP_list[i])\n",
    "print('Number_Of_Device_Problems =',len(pd.DataFrame(df.Device_Problems.value_counts())))\n",
    "(pd.DataFrame(df.Device_Problems.value_counts()))"
   ]
  },
  {
   "cell_type": "markdown",
   "metadata": {},
   "source": [
    "# Device_problems bars plot"
   ]
  },
  {
   "cell_type": "code",
   "execution_count": 4,
   "metadata": {},
   "outputs": [
    {
     "data": {
      "image/png": "[encoded data removed]",
      "text/plain": [
       "<Figure size 576x432 with 1 Axes>"
      ]
     },
     "metadata": {
      "needs_background": "light"
     },
     "output_type": "display_data"
    }
   ],
   "source": [
    "fig = plt.figure(figsize=(8,6))\n",
    "df.groupby('Device_Problems').Event_description_Narrative.count().plot.bar(ylim=0)\n",
    "plt.show()"
   ]
  },
  {
   "cell_type": "markdown",
   "metadata": {},
   "source": [
    "# Working with Event_description_Narrative column"
   ]
  },
  {
   "cell_type": "code",
   "execution_count": 5,
   "metadata": {},
   "outputs": [
    {
     "name": "stdout",
     "output_type": "stream",
     "text": [
      "5383\n"
     ]
    },
    {
     "data": {
      "text/html": [
       "<div>\n",
       "<style scoped>\n",
       "    .dataframe tbody tr th:only-of-type {\n",
       "        vertical-align: middle;\n",
       "    }\n",
       "\n",
       "    .dataframe tbody tr th {\n",
       "        vertical-align: top;\n",
       "    }\n",
       "\n",
       "    .dataframe thead th {\n",
       "        text-align: right;\n",
       "    }\n",
       "</style>\n",
       "<table border=\"1\" class=\"dataframe\">\n",
       "  <thead>\n",
       "    <tr style=\"text-align: right;\">\n",
       "      <th></th>\n",
       "      <th>Device_Problems</th>\n",
       "      <th>Event_description_Narrative</th>\n",
       "      <th>category_id</th>\n",
       "    </tr>\n",
       "  </thead>\n",
       "  <tbody>\n",
       "    <tr>\n",
       "      <th>5270</th>\n",
       "      <td>Mechanical</td>\n",
       "      <td>the customer reported that the vela ventilator was alarming high pip and low pip the issue occurred during patientuse and the device was replaced with another ventilator the customer confirmed that there was no patient harm associated with the reported eventat this time the suspect device has not been returned for evaluation no root cause has been determined yet any additional information received from the customer will be included in a followup report</td>\n",
       "      <td>2</td>\n",
       "    </tr>\n",
       "    <tr>\n",
       "      <th>3015</th>\n",
       "      <td>Mechanical</td>\n",
       "      <td>the customer reported that the vela ventilator was alarming transducer fault on startup the customer confirmed that there was no patient involvement associated with the reported eventvyaire medical file identification b4 a vyaire field service representativefsr evaluated the device onsitechecked the error log and confirmed the alarms the unit was tested with personal test equipment and was unable to duplicate transducer fault but the vent would intermittently auto cycle during testing the pe...</td>\n",
       "      <td>2</td>\n",
       "    </tr>\n",
       "    <tr>\n",
       "      <th>3487</th>\n",
       "      <td>Circuit</td>\n",
       "      <td>it was reported to resmed that an astral device displayed a battery charging alarm there was no patient harm or a serious injury reported as a result of this incidentthe device was returned to resmed and an evaluation was performed the reported complaint could not be reproduced however review of the device data logs confirmed the reported complaint the internal battery was replaced to address the issue the device was serviced and fully tested before it was returned to the customer resmed ref...</td>\n",
       "      <td>1</td>\n",
       "    </tr>\n",
       "  </tbody>\n",
       "</table>\n",
       "</div>"
      ],
      "text/plain": [
       "     Device_Problems  \\\n",
       "5270      Mechanical   \n",
       "3015      Mechanical   \n",
       "3487         Circuit   \n",
       "\n",
       "                                                                                                                                                                                                                                                                                                                                                                                                                                                                                              Event_description_Narrative  \\\n",
       "5270                                             the customer reported that the vela ventilator was alarming high pip and low pip the issue occurred during patientuse and the device was replaced with another ventilator the customer confirmed that there was no patient harm associated with the reported eventat this time the suspect device has not been returned for evaluation no root cause has been determined yet any additional information received from the customer will be included in a followup report   \n",
       "3015  the customer reported that the vela ventilator was alarming transducer fault on startup the customer confirmed that there was no patient involvement associated with the reported eventvyaire medical file identification b4 a vyaire field service representativefsr evaluated the device onsitechecked the error log and confirmed the alarms the unit was tested with personal test equipment and was unable to duplicate transducer fault but the vent would intermittently auto cycle during testing the pe...   \n",
       "3487  it was reported to resmed that an astral device displayed a battery charging alarm there was no patient harm or a serious injury reported as a result of this incidentthe device was returned to resmed and an evaluation was performed the reported complaint could not be reproduced however review of the device data logs confirmed the reported complaint the internal battery was replaced to address the issue the device was serviced and fully tested before it was returned to the customer resmed ref...   \n",
       "\n",
       "      category_id  \n",
       "5270            2  \n",
       "3015            2  \n",
       "3487            1  "
      ]
     },
     "execution_count": 5,
     "metadata": {},
     "output_type": "execute_result"
    }
   ],
   "source": [
    "col = ['Device_Problems', 'Event_description_Narrative']\n",
    "df= df[col]\n",
    "df= df[pd.notnull(df['Event_description_Narrative'])]\n",
    "#result = result[pd.notnull(result['Event_description'])]\n",
    "df.columns = ['Device_Problems', 'Event_description_Narrative']\n",
    "df['category_id'] =df['Device_Problems'].factorize()[0]\n",
    "category_id_df= df[['Device_Problems', 'category_id']].drop_duplicates().sort_values('category_id')\n",
    "category_to_id = dict(category_id_df.values)\n",
    "id_to_category= dict(category_id_df[['category_id', 'Device_Problems']].values)\n",
    "print(len(df))\n",
    "df.sample(n=3)"
   ]
  },
  {
   "cell_type": "markdown",
   "metadata": {},
   "source": [
    "# Feature extraction using TF-IDF"
   ]
  },
  {
   "cell_type": "code",
   "execution_count": 6,
   "metadata": {},
   "outputs": [
    {
     "data": {
      "text/plain": [
       "(5383, 5258)"
      ]
     },
     "execution_count": 6,
     "metadata": {},
     "output_type": "execute_result"
    }
   ],
   "source": [
    "from sklearn.feature_extraction.text import TfidfVectorizer\n",
    "tfidf = TfidfVectorizer(sublinear_tf=True, min_df=5, norm='l2',\n",
    "                        encoding='latin-1', ngram_range=(1, 2), \n",
    "                        stop_words='english')\n",
    "features = tfidf.fit_transform(df[\"Event_description_Narrative\"]).toarray()\n",
    "labels = df.category_id\n",
    "features.shape"
   ]
  },
  {
   "cell_type": "markdown",
   "metadata": {},
   "source": [
    "# Most Correlated Unigrams and Bigrams"
   ]
  },
  {
   "cell_type": "code",
   "execution_count": 7,
   "metadata": {},
   "outputs": [
    {
     "name": "stdout",
     "output_type": "stream",
     "text": [
      "# 'Calibration':\n",
      "  . Most correlated unigrams:\n",
      ". incidentthe\n",
      ". pneumatic\n",
      ". internal\n",
      ". failed\n",
      ". block\n",
      ". nonreturn\n",
      ". nrv\n",
      ". resmed\n",
      ". complete\n",
      ". selftest\n",
      "  . Most correlated bigrams:\n",
      ". nrv assembly\n",
      ". valve nrv\n",
      ". complaint pneumatic\n",
      ". pneumatic block\n",
      ". nonreturn valve\n",
      ". device failed\n",
      ". selftest patient\n",
      ". internal selftest\n",
      ". complete internal\n",
      ". failed complete\n",
      "# 'Circuit':\n",
      "  . Most correlated unigrams:\n",
      ". complaints\n",
      ". event\n",
      ". activities\n",
      ". selftest\n",
      ". unanticipated\n",
      ". b6\n",
      ". 2020\n",
      ". date\n",
      ". getinge\n",
      ". display\n",
      "  . Most correlated bigrams:\n",
      ". submitted complaints\n",
      ". b6 2020\n",
      ". date report\n",
      ". selftest patient\n",
      ". failed complete\n",
      ". complete internal\n",
      ". event b6\n",
      ". internal selftest\n",
      ". device failed\n",
      ". getinge b4\n",
      "# 'Mechanical':\n",
      "  . Most correlated unigrams:\n",
      ". root\n",
      ". medical\n",
      ". information\n",
      ". fault\n",
      ". suspect\n",
      ". associated\n",
      ". additional\n",
      ". vela\n",
      ". resmed\n",
      ". vyaire\n",
      "  . Most correlated bigrams:\n",
      ". cfr section\n",
      ". root cause\n",
      ". transducer fault\n",
      ". involvement associated\n",
      ". cause determined\n",
      ". evaluation root\n",
      ". associated reported\n",
      ". additional information\n",
      ". vyaire medical\n",
      ". vela ventilator\n",
      "# 'Power':\n",
      "  . Most correlated unigrams:\n",
      ". supply\n",
      ". psu\n",
      ". source\n",
      ". level\n",
      ". capacity\n",
      ". reduced\n",
      ". detection\n",
      ". power\n",
      ". charge\n",
      ". battery\n",
      "  . Most correlated bigrams:\n",
      ". detection issue\n",
      ". power patient\n",
      ". power complainant\n",
      ". source detection\n",
      ". power source\n",
      ". internal battery\n",
      ". battery patient\n",
      ". charge internal\n",
      ". device power\n",
      ". failed charge\n",
      "# 'Software':\n",
      "  . Most correlated unigrams:\n",
      ". instructions\n",
      ". physical\n",
      ". perform\n",
      ". assisted\n",
      ". epc\n",
      ". recalibrated\n",
      ". hard\n",
      ". case\n",
      ". touchscreen\n",
      ". unresponsive\n",
      "  . Most correlated bigrams:\n",
      ". reset device\n",
      ". perform hard\n",
      ". unit touchscreen\n",
      ". hard reset\n",
      ". case assembly\n",
      ". case replaced\n",
      ". complaint case\n",
      ". touchscreen patient\n",
      ". unresponsive touchscreen\n",
      ". device unresponsive\n"
     ]
    }
   ],
   "source": [
    "N = 10\n",
    "for Device_Problems, category_id in sorted(category_to_id.items()):\n",
    "  features_chi2 = chi2(features, labels == category_id)\n",
    "  indices = np.argsort(features_chi2[0])\n",
    "  feature_names = np.array(tfidf.get_feature_names())[indices]\n",
    "  unigrams = [v for v in feature_names if len(v.split(' ')) == 1]\n",
    "  bigrams = [v for v in feature_names if len(v.split(' ')) == 2]\n",
    "  print(\"# '{}':\".format(Device_Problems))\n",
    "  print(\"  . Most correlated unigrams:\\n. {}\".format('\\n. '.join(unigrams[-N:])))\n",
    "  print(\"  . Most correlated bigrams:\\n. {}\".format('\\n. '.join(bigrams[-N:])))"
   ]
  },
  {
   "cell_type": "markdown",
   "metadata": {},
   "source": [
    "# Models acuuracy"
   ]
  },
  {
   "cell_type": "code",
   "execution_count": 8,
   "metadata": {},
   "outputs": [
    {
     "data": {
      "image/png": "[encoded data removed]",
      "text/plain": [
       "<Figure size 432x288 with 1 Axes>"
      ]
     },
     "metadata": {
      "needs_background": "light"
     },
     "output_type": "display_data"
    }
   ],
   "source": [
    "models = [\n",
    "    LinearSVC(),\n",
    "    MultinomialNB(),\n",
    "    LogisticRegression(random_state=0),\n",
    "]\n",
    "CV = 5\n",
    "cv_df = pd.DataFrame(index=range(CV * len(models)))\n",
    "entries = []\n",
    "for model in models:\n",
    "  model_name = model.__class__.__name__\n",
    "  accuracies = cross_val_score(model, features, labels, scoring='accuracy', cv=CV)\n",
    "  for fold_idx, accuracy in enumerate(accuracies):\n",
    "    entries.append((model_name, fold_idx, accuracy))\n",
    "cv_df = pd.DataFrame(entries, columns=['model_name', 'fold_idx', 'accuracy'])\n",
    "import seaborn as sns\n",
    "sns.boxplot(x='model_name', y='accuracy', data=cv_df)\n",
    "sns.stripplot(x='model_name', y='accuracy', data=cv_df, \n",
    "              size=8, jitter=True, edgecolor=\"gray\", linewidth=2)\n",
    "plt.show()"
   ]
  },
  {
   "cell_type": "code",
   "execution_count": 9,
   "metadata": {},
   "outputs": [
    {
     "data": {
      "text/html": [
       "<div>\n",
       "<style scoped>\n",
       "    .dataframe tbody tr th:only-of-type {\n",
       "        vertical-align: middle;\n",
       "    }\n",
       "\n",
       "    .dataframe tbody tr th {\n",
       "        vertical-align: top;\n",
       "    }\n",
       "\n",
       "    .dataframe thead th {\n",
       "        text-align: right;\n",
       "    }\n",
       "</style>\n",
       "<table border=\"1\" class=\"dataframe\">\n",
       "  <thead>\n",
       "    <tr style=\"text-align: right;\">\n",
       "      <th></th>\n",
       "      <th>accuracy</th>\n",
       "    </tr>\n",
       "    <tr>\n",
       "      <th>model_name</th>\n",
       "      <th></th>\n",
       "    </tr>\n",
       "  </thead>\n",
       "  <tbody>\n",
       "    <tr>\n",
       "      <th>LinearSVC</th>\n",
       "      <td>0.858068</td>\n",
       "    </tr>\n",
       "    <tr>\n",
       "      <th>LogisticRegression</th>\n",
       "      <td>0.841164</td>\n",
       "    </tr>\n",
       "    <tr>\n",
       "      <th>MultinomialNB</th>\n",
       "      <td>0.731749</td>\n",
       "    </tr>\n",
       "  </tbody>\n",
       "</table>\n",
       "</div>"
      ],
      "text/plain": [
       "                    accuracy\n",
       "model_name                  \n",
       "LinearSVC           0.858068\n",
       "LogisticRegression  0.841164\n",
       "MultinomialNB       0.731749"
      ]
     },
     "execution_count": 9,
     "metadata": {},
     "output_type": "execute_result"
    }
   ],
   "source": [
    "pd.DataFrame(cv_df.groupby('model_name').accuracy.mean())"
   ]
  },
  {
   "cell_type": "markdown",
   "metadata": {},
   "source": [
    "# Model Evaluation using Confusion Matrix"
   ]
  },
  {
   "cell_type": "markdown",
   "metadata": {},
   "source": [
    "# Multinomial Naieve Bayes "
   ]
  },
  {
   "cell_type": "code",
   "execution_count": 10,
   "metadata": {},
   "outputs": [
    {
     "name": "stdout",
     "output_type": "stream",
     "text": [
      "(4306, 5258) (1077, 5258) (4306,) (1077,)\n"
     ]
    },
    {
     "data": {
      "text/plain": [
       "Text(0.5, 69.0, 'Predicted')"
      ]
     },
     "execution_count": 10,
     "metadata": {},
     "output_type": "execute_result"
    },
    {
     "data": {
      "image/png": "[encoded data removed]",
      "text/plain": [
       "<Figure size 720x720 with 2 Axes>"
      ]
     },
     "metadata": {
      "needs_background": "light"
     },
     "output_type": "display_data"
    }
   ],
   "source": [
    "model = MultinomialNB()\n",
    "X_train, X_test, y_train, y_test, indices_train, indices_test =train_test_split(features, \n",
    "                                            labels,df.index ,\n",
    "                                            test_size=0.2, random_state=0)\n",
    "print(X_train.shape, X_test.shape, y_train.shape, y_test.shape)\n",
    "model.fit(X_train, y_train)\n",
    "y_pred = model.predict(X_test)\n",
    "conf_mat = confusion_matrix(y_test, y_pred)\n",
    "fig, ax = plt.subplots(figsize=(10,10))\n",
    "#rename=['Circuit','Mechanical','Calibration','Power','Software']\n",
    "sns.heatmap(conf_mat, annot=True, fmt='d',\n",
    "            xticklabels=category_id_df.Device_Problems.values, yticklabels=category_id_df.Device_Problems.values)\n",
    "plt.ylabel('Actual')\n",
    "plt.xlabel('Predicted')"
   ]
  },
  {
   "cell_type": "code",
   "execution_count": 11,
   "metadata": {},
   "outputs": [
    {
     "name": "stdout",
     "output_type": "stream",
     "text": [
      "accuracy 0.7325905292479109\n",
      "              precision    recall  f1-score   support\n",
      "\n",
      "           0       0.67      0.94      0.78       236\n",
      "           1       0.67      0.57      0.61       309\n",
      "           2       0.80      0.90      0.85       384\n",
      "           3       0.89      0.36      0.51       131\n",
      "           4       0.00      0.00      0.00        17\n",
      "\n",
      "    accuracy                           0.73      1077\n",
      "   macro avg       0.61      0.55      0.55      1077\n",
      "weighted avg       0.73      0.73      0.71      1077\n",
      "\n"
     ]
    },
    {
     "name": "stderr",
     "output_type": "stream",
     "text": [
      "C:\\Users\\User\\anaconda3\\lib\\site-packages\\sklearn\\metrics\\_classification.py:1221: UndefinedMetricWarning: Precision and F-score are ill-defined and being set to 0.0 in labels with no predicted samples. Use `zero_division` parameter to control this behavior.\n",
      "  _warn_prf(average, modifier, msg_start, len(result))\n"
     ]
    }
   ],
   "source": [
    "from sklearn.metrics import accuracy_score,classification_report\n",
    "print('accuracy %s' % accuracy_score(y_pred, y_test))\n",
    "print(classification_report(y_test, y_pred))"
   ]
  },
  {
   "cell_type": "markdown",
   "metadata": {},
   "source": [
    "# Logistic Regression"
   ]
  },
  {
   "cell_type": "code",
   "execution_count": 12,
   "metadata": {},
   "outputs": [
    {
     "name": "stdout",
     "output_type": "stream",
     "text": [
      "(4306, 5258) (1077, 5258) (4306,) (1077,)\n"
     ]
    },
    {
     "data": {
      "text/plain": [
       "Text(0.5, 69.0, 'Predicted')"
      ]
     },
     "execution_count": 12,
     "metadata": {},
     "output_type": "execute_result"
    },
    {
     "data": {
      "image/png": "[encoded data removed]",
      "text/plain": [
       "<Figure size 720x720 with 2 Axes>"
      ]
     },
     "metadata": {
      "needs_background": "light"
     },
     "output_type": "display_data"
    }
   ],
   "source": [
    "model = LogisticRegression(random_state=0)\n",
    "X_train, X_test, y_train, y_test, indices_train, indices_test =train_test_split(features, \n",
    "                                            labels,df.index ,\n",
    "                                            test_size=0.2, random_state=0)\n",
    "print(X_train.shape, X_test.shape, y_train.shape, y_test.shape)\n",
    "model.fit(X_train, y_train)\n",
    "y_pred = model.predict(X_test)\n",
    "conf_mat = confusion_matrix(y_test, y_pred)\n",
    "fig, ax = plt.subplots(figsize=(10,10))\n",
    "#rename=['Circuit','Mechanical','Calibration','Power','Software']\n",
    "sns.heatmap(conf_mat, annot=True, fmt='d',\n",
    "            xticklabels=category_id_df.Device_Problems.values, yticklabels=category_id_df.Device_Problems.values)\n",
    "plt.ylabel('Actual')\n",
    "plt.xlabel('Predicted')"
   ]
  },
  {
   "cell_type": "code",
   "execution_count": 13,
   "metadata": {},
   "outputs": [
    {
     "name": "stdout",
     "output_type": "stream",
     "text": [
      "accuracy 0.8486536675951718\n",
      "              precision    recall  f1-score   support\n",
      "\n",
      "           0       0.88      0.92      0.90       236\n",
      "           1       0.75      0.76      0.76       309\n",
      "           2       0.88      0.90      0.89       384\n",
      "           3       0.95      0.82      0.88       131\n",
      "           4       0.75      0.35      0.48        17\n",
      "\n",
      "    accuracy                           0.85      1077\n",
      "   macro avg       0.84      0.75      0.78      1077\n",
      "weighted avg       0.85      0.85      0.85      1077\n",
      "\n"
     ]
    }
   ],
   "source": [
    "from sklearn.metrics import accuracy_score,classification_report\n",
    "print('accuracy %s' % accuracy_score(y_pred, y_test))\n",
    "print(classification_report(y_test, y_pred))"
   ]
  },
  {
   "cell_type": "markdown",
   "metadata": {},
   "source": [
    "# Linear Kernel SVM"
   ]
  },
  {
   "cell_type": "code",
   "execution_count": 14,
   "metadata": {},
   "outputs": [
    {
     "name": "stdout",
     "output_type": "stream",
     "text": [
      "(4306, 5258) (1077, 5258) (4306,) (1077,)\n"
     ]
    },
    {
     "data": {
      "text/plain": [
       "Text(0.5, 69.0, 'Predicted')"
      ]
     },
     "execution_count": 14,
     "metadata": {},
     "output_type": "execute_result"
    },
    {
     "data": {
      "image/png": "[encoded data removed]",
      "text/plain": [
       "<Figure size 720x720 with 2 Axes>"
      ]
     },
     "metadata": {
      "needs_background": "light"
     },
     "output_type": "display_data"
    }
   ],
   "source": [
    "model = LinearSVC()\n",
    "X_train, X_test, y_train, y_test, indices_train, indices_test =train_test_split(features, \n",
    "                                            labels,df.index ,\n",
    "                                            test_size=0.2, random_state=0)\n",
    "print(X_train.shape, X_test.shape, y_train.shape, y_test.shape)\n",
    "model.fit(X_train, y_train)\n",
    "y_pred = model.predict(X_test)\n",
    "conf_mat = confusion_matrix(y_test, y_pred)\n",
    "fig, ax = plt.subplots(figsize=(10,10))\n",
    "#rename=['Circuit','Mechanical','Calibration','Power','Software']\n",
    "sns.heatmap(conf_mat, annot=True, fmt='d',\n",
    "            xticklabels=category_id_df.Device_Problems.values, yticklabels=category_id_df.Device_Problems.values)\n",
    "plt.ylabel('Actual')\n",
    "plt.xlabel('Predicted')"
   ]
  },
  {
   "cell_type": "markdown",
   "metadata": {},
   "source": [
    "# Select SVC for our Multiclass Text classification problem"
   ]
  },
  {
   "cell_type": "code",
   "execution_count": 17,
   "metadata": {},
   "outputs": [
    {
     "name": "stdout",
     "output_type": "stream",
     "text": [
      "(4306, 5258) (1077, 5258) (4306,) (1077,)\n",
      "[3]\n"
     ]
    },
    {
     "data": {
      "image/png": "[encoded data removed]",
      "text/plain": [
       "<Figure size 720x720 with 2 Axes>"
      ]
     },
     "metadata": {
      "needs_background": "light"
     },
     "output_type": "display_data"
    }
   ],
   "source": [
    "model = LinearSVC()\n",
    "X_train, X_test, y_train, y_test, indices_train, indices_test =train_test_split(features, \n",
    "                                            labels,df.index ,\n",
    "                                            test_size=0.2, random_state=0)\n",
    "print(X_train.shape, X_test.shape, y_train.shape, y_test.shape)\n",
    "model.fit(X_train, y_train)\n",
    "y_pred = model.predict(X_test)\n",
    "conf_mat = confusion_matrix(y_test, y_pred)\n",
    "fig, ax = plt.subplots(figsize=(10,10))\n",
    "sns.heatmap(conf_mat, annot=True, fmt='d',\n",
    "            xticklabels=category_id_df.Device_Problems.values, yticklabels=category_id_df.Device_Problems.values)\n",
    "plt.ylabel('Actual')\n",
    "plt.xlabel('Predicted')\n",
    "print(model.predict(tfidf.transform([\"the customer reported battery needs replaced it is unknown if the ventilator was being used on a patient at the time that the error was discovered confirmation has been requesteddate of event\"])))"
   ]
  },
  {
   "cell_type": "code",
   "execution_count": 18,
   "metadata": {},
   "outputs": [
    {
     "name": "stdout",
     "output_type": "stream",
     "text": [
      "accuracy 0.8774373259052924\n",
      "              precision    recall  f1-score   support\n",
      "\n",
      "           0       0.91      0.92      0.92       236\n",
      "           1       0.80      0.81      0.81       309\n",
      "           2       0.91      0.92      0.91       384\n",
      "           3       0.91      0.88      0.89       131\n",
      "           4       0.82      0.53      0.64        17\n",
      "\n",
      "    accuracy                           0.88      1077\n",
      "   macro avg       0.87      0.81      0.83      1077\n",
      "weighted avg       0.88      0.88      0.88      1077\n",
      "\n"
     ]
    }
   ],
   "source": [
    "from sklearn.metrics import accuracy_score,classification_report\n",
    "print('accuracy %s' % accuracy_score(y_pred, y_test))\n",
    "print(classification_report(y_test, y_pred))"
   ]
  },
  {
   "cell_type": "code",
   "execution_count": null,
   "metadata": {},
   "outputs": [],
   "source": []
  }
 ],
 "metadata": {
  "kernelspec": {
   "display_name": "Python 3",
   "language": "python",
   "name": "python3"
  },
  "language_info": {
   "codemirror_mode": {
    "name": "ipython",
    "version": 3
   },
   "file_extension": ".py",
   "mimetype": "text/x-python",
   "name": "python",
   "nbconvert_exporter": "python",
   "pygments_lexer": "ipython3",
   "version": "3.8.5"
  }
 },
 "nbformat": 4,
 "nbformat_minor": 4
}
