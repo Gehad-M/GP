{
 "cells": [
  {
   "cell_type": "markdown",
   "metadata": {},
   "source": [
    "# Device_Problems Categories Reduction"
   ]
  },
  {
   "cell_type": "code",
   "execution_count": 28,
   "metadata": {},
   "outputs": [],
   "source": [
    "from sklearn.feature_extraction.text import CountVectorizer\n",
    "from collections import Counter\n",
    "import matplotlib.pyplot as plt\n",
    "import seaborn as sns\n",
    "import pandas as pd\n",
    "import numpy as np\n",
    "import itertools\n",
    "import string\n",
    "import io\n",
    "import re"
   ]
  },
  {
   "cell_type": "markdown",
   "metadata": {},
   "source": [
    "# ICU Ventialor data for 2020 from MAUDE database "
   ]
  },
  {
   "cell_type": "code",
   "execution_count": 29,
   "metadata": {},
   "outputs": [],
   "source": [
    "pd.options.display.max_colwidth=500\n",
    "data = pd.read_csv ('CBKmdr2020.csv')\n",
    "df = pd.DataFrame(data)"
   ]
  },
  {
   "cell_type": "markdown",
   "metadata": {},
   "source": [
    "# Only 3 columns, we'll need from 17 columns"
   ]
  },
  {
   "cell_type": "code",
   "execution_count": 30,
   "metadata": {},
   "outputs": [],
   "source": [
    "col = ['Device_Problems', 'Event_description','Narrative']\n",
    "df = df[col]"
   ]
  },
  {
   "cell_type": "markdown",
   "metadata": {},
   "source": [
    "# DataFrame with 3 columns and 11083 row"
   ]
  },
  {
   "cell_type": "code",
   "execution_count": 31,
   "metadata": {},
   "outputs": [
    {
     "name": "stdout",
     "output_type": "stream",
     "text": [
      "<class 'pandas.core.frame.DataFrame'>\n",
      "RangeIndex: 11083 entries, 0 to 11082\n",
      "Data columns (total 3 columns):\n",
      " #   Column             Non-Null Count  Dtype \n",
      "---  ------             --------------  ----- \n",
      " 0   Device_Problems    11079 non-null  object\n",
      " 1   Event_description  11076 non-null  object\n",
      " 2   Narrative          6923 non-null   object\n",
      "dtypes: object(3)\n",
      "memory usage: 259.9+ KB\n"
     ]
    }
   ],
   "source": [
    "df.info()"
   ]
  },
  {
   "cell_type": "markdown",
   "metadata": {},
   "source": [
    "# Dataframe columns for our problem"
   ]
  },
  {
   "cell_type": "code",
   "execution_count": 32,
   "metadata": {
    "scrolled": true
   },
   "outputs": [
    {
     "data": {
      "text/html": [
       "<div>\n",
       "<style scoped>\n",
       "    .dataframe tbody tr th:only-of-type {\n",
       "        vertical-align: middle;\n",
       "    }\n",
       "\n",
       "    .dataframe tbody tr th {\n",
       "        vertical-align: top;\n",
       "    }\n",
       "\n",
       "    .dataframe thead th {\n",
       "        text-align: right;\n",
       "    }\n",
       "</style>\n",
       "<table border=\"1\" class=\"dataframe\">\n",
       "  <thead>\n",
       "    <tr style=\"text-align: right;\">\n",
       "      <th></th>\n",
       "      <th>Device_Problems</th>\n",
       "      <th>Event_description</th>\n",
       "      <th>Narrative</th>\n",
       "    </tr>\n",
       "  </thead>\n",
       "  <tbody>\n",
       "    <tr>\n",
       "      <th>0</th>\n",
       "      <td>Inappropriate or Unexpected Reset (2959)</td>\n",
       "      <td>The hospital reported that the unit would restart on its own. There was no report of patient involvement.</td>\n",
       "      <td>The switching board and power supply board were replaced to resolve the reported issue. No report of patient involvement. Date of device manufacture was unavailable at time of mdr filing.</td>\n",
       "    </tr>\n",
       "    <tr>\n",
       "      <th>1</th>\n",
       "      <td>Failure to Calibrate (2440)</td>\n",
       "      <td>It was reported to resmed that an astral device failed to complete its internal self-test. There was no patient harm or serious injury reported as a result of this incident.</td>\n",
       "      <td>The device was returned to resmed and an evaluation confirmed the complaint. The non-return valve (nrv) assembly was replaced to address this issue. The device was serviced and fully tested before it was returned to the customer. Resmed's risk analysis for this failure mode concludes that the risk is acceptable. Resmed reference #: (b)(4).</td>\n",
       "    </tr>\n",
       "    <tr>\n",
       "      <th>2</th>\n",
       "      <td>Failure to Calibrate (2440)</td>\n",
       "      <td>It was reported to resmed that an astral device failed to complete its internal self-test. There was no patient harm or serious injury reported as a result of this incident.</td>\n",
       "      <td>The device was returned to resmed and an evaluation confirmed the complaint. The non-return valve (nrv) assembly was replaced to address this issue. The device was serviced and fully tested before it was returned to the customer. Resmed's risk analysis for this failure mode concludes that the risk is acceptable. (b)(4).</td>\n",
       "    </tr>\n",
       "    <tr>\n",
       "      <th>3</th>\n",
       "      <td>Failure to Charge (1085)</td>\n",
       "      <td>It was reported to resmed that an astral device failed to charge. There was no patient harm or serious injury reported as a result of this incident.</td>\n",
       "      <td>The device was returned to an authorized resmed third party service center for an evaluation and service. The customer was issued with a replacement main circuit board as part of a warranty claim. Resmed's risk analysis for these failure modes concludes that the risk is acceptable. (b)(4).</td>\n",
       "    </tr>\n",
       "    <tr>\n",
       "      <th>4</th>\n",
       "      <td>Failure to Charge (1085)</td>\n",
       "      <td>It was reported to resmed that an astral device failed to charge. There was no patient harm or serious injury reported as a result of this incident.</td>\n",
       "      <td>The device was returned to an authorized resmed third party service center for an evaluation and service. The customer was issued with a replacement main circuit board as part of a warranty claim. Resmed's risk analysis for these failure modes concludes that the risk is acceptable. Resmed reference #: (b)(4).</td>\n",
       "    </tr>\n",
       "  </tbody>\n",
       "</table>\n",
       "</div>"
      ],
      "text/plain": [
       "                            Device_Problems  \\\n",
       "0  Inappropriate or Unexpected Reset (2959)   \n",
       "1               Failure to Calibrate (2440)   \n",
       "2               Failure to Calibrate (2440)   \n",
       "3                  Failure to Charge (1085)   \n",
       "4                  Failure to Charge (1085)   \n",
       "\n",
       "                                                                                                                                                               Event_description  \\\n",
       "0                                                                      The hospital reported that the unit would restart on its own. There was no report of patient involvement.   \n",
       "1  It was reported to resmed that an astral device failed to complete its internal self-test. There was no patient harm or serious injury reported as a result of this incident.   \n",
       "2  It was reported to resmed that an astral device failed to complete its internal self-test. There was no patient harm or serious injury reported as a result of this incident.   \n",
       "3                           It was reported to resmed that an astral device failed to charge. There was no patient harm or serious injury reported as a result of this incident.   \n",
       "4                           It was reported to resmed that an astral device failed to charge. There was no patient harm or serious injury reported as a result of this incident.   \n",
       "\n",
       "                                                                                                                                                                                                                                                                                                                                               Narrative  \n",
       "0                                                                                                                                                            The switching board and power supply board were replaced to resolve the reported issue. No report of patient involvement. Date of device manufacture was unavailable at time of mdr filing.  \n",
       "1  The device was returned to resmed and an evaluation confirmed the complaint. The non-return valve (nrv) assembly was replaced to address this issue. The device was serviced and fully tested before it was returned to the customer. Resmed's risk analysis for this failure mode concludes that the risk is acceptable. Resmed reference #: (b)(4).  \n",
       "2                      The device was returned to resmed and an evaluation confirmed the complaint. The non-return valve (nrv) assembly was replaced to address this issue. The device was serviced and fully tested before it was returned to the customer. Resmed's risk analysis for this failure mode concludes that the risk is acceptable. (b)(4).  \n",
       "3                                                     The device was returned to an authorized resmed third party service center for an evaluation and service. The customer was issued with a replacement main circuit board as part of a warranty claim. Resmed's risk analysis for these failure modes concludes that the risk is acceptable. (b)(4).  \n",
       "4                                 The device was returned to an authorized resmed third party service center for an evaluation and service. The customer was issued with a replacement main circuit board as part of a warranty claim. Resmed's risk analysis for these failure modes concludes that the risk is acceptable. Resmed reference #: (b)(4).  "
      ]
     },
     "execution_count": 32,
     "metadata": {},
     "output_type": "execute_result"
    }
   ],
   "source": [
    "df.head()"
   ]
  },
  {
   "cell_type": "markdown",
   "metadata": {},
   "source": [
    "# Pre-processing on data"
   ]
  },
  {
   "cell_type": "markdown",
   "metadata": {},
   "source": [
    "# 1- Remove Parenthesis (1085) in [Failure to Charge (1085)] device_problem"
   ]
  },
  {
   "cell_type": "markdown",
   "metadata": {},
   "source": [
    "# 2- Convert capital characters to lower case"
   ]
  },
  {
   "cell_type": "markdown",
   "metadata": {},
   "source": [
    "# 3- Remove white space at both ends and punctuations"
   ]
  },
  {
   "cell_type": "code",
   "execution_count": 37,
   "metadata": {},
   "outputs": [],
   "source": [
    "re_Parenthesis_list =[\"Device_Problems\"]\n",
    "re_Apostrophe_list =[\"Event_description\",\"Narrative\"]\n",
    "strip_list =[\"Device_Problems\"]\n",
    "# regex to remove punctuations and parenthesis \n",
    "for i in range(0, len(re_Parenthesis_list)):\n",
    "    df[re_Parenthesis_list[i]] = df[re_Parenthesis_list[i]].replace({'\\([^()]*\\)':''}, regex=True) #to remove parenthesis\n",
    "    df[re_Parenthesis_list[i]] = df[re_Parenthesis_list[i]].str.lower()                            #to convert to lower case\n",
    "# regex to remove the punctuations\n",
    "for i in range(0, len(re_Apostrophe_list)):\n",
    "    #df[re_Apostrophe_list[i]] = df[re_Apostrophe_list[i]].replace({'(?<=[a-z])\\'(?=[a-z])':''}, regex=True) #to remove Apostrohe\n",
    "    df[re_Apostrophe_list[i]] = df[re_Apostrophe_list[i]].str.lower()                              #to convert to lower case\n",
    "    df[re_Apostrophe_list[i]] = df[re_Apostrophe_list[i]].str.replace('[^\\w\\s]','')                #to remove punctuations\n",
    "#To remove white space at both ends\n",
    "for i in range(0, len(strip_list)):\n",
    "    df[strip_list[i]]= df[strip_list[i]].str.strip()"
   ]
  },
  {
   "cell_type": "markdown",
   "metadata": {},
   "source": [
    "# Device_Problem Categories after pre-processing"
   ]
  },
  {
   "cell_type": "code",
   "execution_count": 38,
   "metadata": {},
   "outputs": [
    {
     "name": "stdout",
     "output_type": "stream",
     "text": [
      "Num_D_problems: 745\n"
     ]
    },
    {
     "data": {
      "text/html": [
       "<div>\n",
       "<style scoped>\n",
       "    .dataframe tbody tr th:only-of-type {\n",
       "        vertical-align: middle;\n",
       "    }\n",
       "\n",
       "    .dataframe tbody tr th {\n",
       "        vertical-align: top;\n",
       "    }\n",
       "\n",
       "    .dataframe thead th {\n",
       "        text-align: right;\n",
       "    }\n",
       "</style>\n",
       "<table border=\"1\" class=\"dataframe\">\n",
       "  <thead>\n",
       "    <tr style=\"text-align: right;\">\n",
       "      <th></th>\n",
       "      <th>Device_Problems</th>\n",
       "    </tr>\n",
       "  </thead>\n",
       "  <tbody>\n",
       "    <tr>\n",
       "      <th>mechanical problem</th>\n",
       "      <td>2036</td>\n",
       "    </tr>\n",
       "    <tr>\n",
       "      <th>output problem</th>\n",
       "      <td>738</td>\n",
       "    </tr>\n",
       "    <tr>\n",
       "      <th>circuit failure</th>\n",
       "      <td>698</td>\n",
       "    </tr>\n",
       "    <tr>\n",
       "      <th>failure to recalibrate</th>\n",
       "      <td>605</td>\n",
       "    </tr>\n",
       "    <tr>\n",
       "      <th>failure of device to self-test</th>\n",
       "      <td>429</td>\n",
       "    </tr>\n",
       "    <tr>\n",
       "      <th>...</th>\n",
       "      <td>...</td>\n",
       "    </tr>\n",
       "    <tr>\n",
       "      <th>circuit failure ; failure to recalibrate ; incorrect, inadequate or imprecise resultor readings</th>\n",
       "      <td>1</td>\n",
       "    </tr>\n",
       "    <tr>\n",
       "      <th>failure to deliver ; no pressure ; no apparent adverse event</th>\n",
       "      <td>1</td>\n",
       "    </tr>\n",
       "    <tr>\n",
       "      <th>output problem ; power problem</th>\n",
       "      <td>1</td>\n",
       "    </tr>\n",
       "    <tr>\n",
       "      <th>defective component ; component missing</th>\n",
       "      <td>1</td>\n",
       "    </tr>\n",
       "    <tr>\n",
       "      <th>use of device problem ; calibration problem ; failure of device to self-test</th>\n",
       "      <td>1</td>\n",
       "    </tr>\n",
       "  </tbody>\n",
       "</table>\n",
       "<p>745 rows × 1 columns</p>\n",
       "</div>"
      ],
      "text/plain": [
       "                                                                                                 Device_Problems\n",
       "mechanical problem                                                                                          2036\n",
       "output problem                                                                                               738\n",
       "circuit failure                                                                                              698\n",
       "failure to recalibrate                                                                                       605\n",
       "failure of device to self-test                                                                               429\n",
       "...                                                                                                          ...\n",
       "circuit failure ; failure to recalibrate ; incorrect, inadequate or imprecise resultor readings                1\n",
       "failure to deliver ; no pressure ; no apparent adverse event                                                   1\n",
       "output problem ; power problem                                                                                 1\n",
       "defective component ; component missing                                                                        1\n",
       "use of device problem ; calibration problem ; failure of device to self-test                                   1\n",
       "\n",
       "[745 rows x 1 columns]"
      ]
     },
     "execution_count": 38,
     "metadata": {},
     "output_type": "execute_result"
    }
   ],
   "source": [
    "print('Num_D_problems:',len(pd.DataFrame(df.Device_Problems.value_counts())))\n",
    "pd.DataFrame(df.Device_Problems.value_counts())"
   ]
  },
  {
   "cell_type": "markdown",
   "metadata": {},
   "source": [
    "# Data rows after pre-processing"
   ]
  },
  {
   "cell_type": "code",
   "execution_count": 39,
   "metadata": {},
   "outputs": [
    {
     "data": {
      "text/html": [
       "<div>\n",
       "<style scoped>\n",
       "    .dataframe tbody tr th:only-of-type {\n",
       "        vertical-align: middle;\n",
       "    }\n",
       "\n",
       "    .dataframe tbody tr th {\n",
       "        vertical-align: top;\n",
       "    }\n",
       "\n",
       "    .dataframe thead th {\n",
       "        text-align: right;\n",
       "    }\n",
       "</style>\n",
       "<table border=\"1\" class=\"dataframe\">\n",
       "  <thead>\n",
       "    <tr style=\"text-align: right;\">\n",
       "      <th></th>\n",
       "      <th>Device_Problems</th>\n",
       "      <th>Event_description</th>\n",
       "      <th>Narrative</th>\n",
       "    </tr>\n",
       "  </thead>\n",
       "  <tbody>\n",
       "    <tr>\n",
       "      <th>0</th>\n",
       "      <td>inappropriate or unexpected reset</td>\n",
       "      <td>the hospital reported that the unit would restart on its own there was no report of patient involvement</td>\n",
       "      <td>the switching board and power supply board were replaced to resolve the reported issue no report of patient involvement date of device manufacture was unavailable at time of mdr filing</td>\n",
       "    </tr>\n",
       "    <tr>\n",
       "      <th>1</th>\n",
       "      <td>failure to calibrate</td>\n",
       "      <td>it was reported to resmed that an astral device failed to complete its internal selftest there was no patient harm or serious injury reported as a result of this incident</td>\n",
       "      <td>the device was returned to resmed and an evaluation confirmed the complaint the nonreturn valve nrv assembly was replaced to address this issue the device was serviced and fully tested before it was returned to the customer resmeds risk analysis for this failure mode concludes that the risk is acceptable resmed reference  b4</td>\n",
       "    </tr>\n",
       "    <tr>\n",
       "      <th>2</th>\n",
       "      <td>failure to calibrate</td>\n",
       "      <td>it was reported to resmed that an astral device failed to complete its internal selftest there was no patient harm or serious injury reported as a result of this incident</td>\n",
       "      <td>the device was returned to resmed and an evaluation confirmed the complaint the nonreturn valve nrv assembly was replaced to address this issue the device was serviced and fully tested before it was returned to the customer resmeds risk analysis for this failure mode concludes that the risk is acceptable b4</td>\n",
       "    </tr>\n",
       "    <tr>\n",
       "      <th>3</th>\n",
       "      <td>failure to charge</td>\n",
       "      <td>it was reported to resmed that an astral device failed to charge there was no patient harm or serious injury reported as a result of this incident</td>\n",
       "      <td>the device was returned to an authorized resmed third party service center for an evaluation and service the customer was issued with a replacement main circuit board as part of a warranty claim resmeds risk analysis for these failure modes concludes that the risk is acceptable b4</td>\n",
       "    </tr>\n",
       "    <tr>\n",
       "      <th>4</th>\n",
       "      <td>failure to charge</td>\n",
       "      <td>it was reported to resmed that an astral device failed to charge there was no patient harm or serious injury reported as a result of this incident</td>\n",
       "      <td>the device was returned to an authorized resmed third party service center for an evaluation and service the customer was issued with a replacement main circuit board as part of a warranty claim resmeds risk analysis for these failure modes concludes that the risk is acceptable resmed reference  b4</td>\n",
       "    </tr>\n",
       "  </tbody>\n",
       "</table>\n",
       "</div>"
      ],
      "text/plain": [
       "                     Device_Problems  \\\n",
       "0  inappropriate or unexpected reset   \n",
       "1               failure to calibrate   \n",
       "2               failure to calibrate   \n",
       "3                  failure to charge   \n",
       "4                  failure to charge   \n",
       "\n",
       "                                                                                                                                                            Event_description  \\\n",
       "0                                                                     the hospital reported that the unit would restart on its own there was no report of patient involvement   \n",
       "1  it was reported to resmed that an astral device failed to complete its internal selftest there was no patient harm or serious injury reported as a result of this incident   \n",
       "2  it was reported to resmed that an astral device failed to complete its internal selftest there was no patient harm or serious injury reported as a result of this incident   \n",
       "3                          it was reported to resmed that an astral device failed to charge there was no patient harm or serious injury reported as a result of this incident   \n",
       "4                          it was reported to resmed that an astral device failed to charge there was no patient harm or serious injury reported as a result of this incident   \n",
       "\n",
       "                                                                                                                                                                                                                                                                                                                                Narrative  \n",
       "0                                                                                                                                                the switching board and power supply board were replaced to resolve the reported issue no report of patient involvement date of device manufacture was unavailable at time of mdr filing  \n",
       "1  the device was returned to resmed and an evaluation confirmed the complaint the nonreturn valve nrv assembly was replaced to address this issue the device was serviced and fully tested before it was returned to the customer resmeds risk analysis for this failure mode concludes that the risk is acceptable resmed reference  b4  \n",
       "2                    the device was returned to resmed and an evaluation confirmed the complaint the nonreturn valve nrv assembly was replaced to address this issue the device was serviced and fully tested before it was returned to the customer resmeds risk analysis for this failure mode concludes that the risk is acceptable b4  \n",
       "3                                               the device was returned to an authorized resmed third party service center for an evaluation and service the customer was issued with a replacement main circuit board as part of a warranty claim resmeds risk analysis for these failure modes concludes that the risk is acceptable b4  \n",
       "4                             the device was returned to an authorized resmed third party service center for an evaluation and service the customer was issued with a replacement main circuit board as part of a warranty claim resmeds risk analysis for these failure modes concludes that the risk is acceptable resmed reference  b4  "
      ]
     },
     "execution_count": 39,
     "metadata": {},
     "output_type": "execute_result"
    }
   ],
   "source": [
    "df.head()"
   ]
  },
  {
   "cell_type": "markdown",
   "metadata": {},
   "source": [
    "#  Lists of Device_problems subcategories to convert them into 5 main Categories"
   ]
  },
  {
   "cell_type": "code",
   "execution_count": 40,
   "metadata": {},
   "outputs": [],
   "source": [
    "Calibration_Problems=['failure of device to self-test','Failure to calibrate','Calibration Problem',\n",
    "                      'failure to calibrate ; battery problem',\n",
    "                      'Protective Measures Problem','failure to recalibrate',\n",
    "                      'Failure to device to self-test','Failure to Read Input Signal','Volume Accuracy Problem',\n",
    "                     'Failure to Align']\n",
    "\n",
    "\n",
    "Software_Problems=['computer software','device displays incorrect message ; unexpected shutdown',\n",
    "                   'computer software problem',\n",
    "                   'Inadequate user interface','computer operating system problem',\n",
    "                  'Application Program Problem']\n",
    "\n",
    "\n",
    "Power_Problems=['battery problem','failure to charge','battery problem ; protective measures problem ; unexpected shutdown',\n",
    "                'overheating of device ; battery problem','failure to power up',\n",
    "                'ailure to power up','premature discharge of battery','Loss of Power',\n",
    "                'Complete Loss Of Power','Failure to Run on Battery','Aborted Charge','power problem','charging problem']\n",
    "\n",
    "                \n",
    "\n",
    "Mechanical_Problems=['Mechanical Problem','contamination ; mechanical problem','Detachment Of Device Or Device Component',\n",
    "                     'contamination ; mechanical problem',\n",
    "                     'Mechanical Problem','Mechanics Altered','Material Erosion',\n",
    "                     'mechanical problem ; failure to recalibrate',\n",
    "                     'gas output problem ; decreased pump speed ; failure to deliver ; no pressure',\n",
    "                     'mechanical problem ; failure of device to self-test',\n",
    "                     'Device Fell','Material Rupture','Inaccurate Delivery','Failure to Deliver','No flow',\n",
    "                     'Unintended Collision','Physical Resistance/Sticking','Obstruction of Flow','Failure to Cycle',\n",
    "                     'Insufficient Flow or Under Infusion']"
   ]
  },
  {
   "cell_type": "code",
   "execution_count": 42,
   "metadata": {},
   "outputs": [],
   "source": [
    "Circuit_failure=['output problem','communication or transmission problem','No display image','no display/image','Erratic or intermittent display','Poor Quality Image','Defective component','circuit failure','device displays incorrect message',\n",
    "                 'failure to charge ; circuit failure ; battery problem','no audible alarm''failure to charge ; failure to recalibrate ; battery problem','erratic or intermittent display ; device displays incorrect message',\n",
    "                 'thermal decomposition of device ; failure to power up ; battery problem','no flow ; output problem','display or visual feedback problem ; improper flow or infusion','incorrect, inadequate or imprecise resultor readings','use of device problem',\n",
    "                 'therapeutic or diagnostic output failure','no audible alarm',  'output problem','Incorrect, in adequate or imprecise resultor Reading','Device displays incorrect massage',\n",
    "                'Image Display Error/Artifact','Defective device','Unable to Obtain Readings','Display or Visual Feedback Problem','Disconnection','Data Problem','Break',\n",
    "                 'erratic or intermittent display ; no flow','Noise, Audible','Unexpected Shutdown','Device Alarm System','Protective Measures Problem',\n",
    "                 'Low Readings','Electro-Static Discharge','Component Missing','Electrical Shorting','Tidal Volume Fluctuations','Smoking','Improper Flow or Infusion','No Tactile Prompts/Feedback',\n",
    "                 'Connection Problem','Leak/Splash','Display Difficult to Read','High Readings','Inappropriate or Unexpected Reset','Appropriate Term/Code Not Available','Contamination',\n",
    "                 'Insufficient Information','Infusion or Flow Problem','Temperature Problem','Activation Problem',\n",
    "                 'Tactile Prompts/Feedback','Image Display Error/Artifact','Environmental Compatibility Problem']"
   ]
  },
  {
   "cell_type": "code",
   "execution_count": 44,
   "metadata": {},
   "outputs": [
    {
     "name": "stdout",
     "output_type": "stream",
     "text": [
      "[['failure of device to self-test', 'failure to calibrate', 'calibration problem', 'failure to calibrate ; battery problem', 'protective measures problem', 'failure to recalibrate', 'failure to device to self-test', 'failure to read input signal', 'volume accuracy problem', 'failure to align'], ['computer software', 'device displays incorrect message ; unexpected shutdown', 'computer software problem', 'inadequate user interface', 'computer operating system problem', 'application program problem'], ['output problem', 'communication or transmission problem', 'no display image', 'no display/image', 'erratic or intermittent display', 'poor quality image', 'defective component', 'circuit failure', 'device displays incorrect message', 'failure to charge ; circuit failure ; battery problem', 'no audible alarmfailure to charge ; failure to recalibrate ; battery problem', 'erratic or intermittent display ; device displays incorrect message', 'thermal decomposition of device ; failure to power up ; battery problem', 'no flow ; output problem', 'display or visual feedback problem ; improper flow or infusion', 'incorrect, inadequate or imprecise resultor readings', 'use of device problem', 'therapeutic or diagnostic output failure', 'no audible alarm', 'output problem', 'incorrect, in adequate or imprecise resultor reading', 'device displays incorrect massage', 'image display error/artifact', 'defective device', 'unable to obtain readings', 'display or visual feedback problem', 'disconnection', 'data problem', 'break', 'erratic or intermittent display ; no flow', 'noise, audible', 'unexpected shutdown', 'device alarm system', 'protective measures problem', 'low readings', 'electro-static discharge', 'component missing', 'electrical shorting', 'tidal volume fluctuations', 'smoking', 'improper flow or infusion', 'no tactile prompts/feedback', 'connection problem', 'leak/splash', 'display difficult to read', 'high readings', 'inappropriate or unexpected reset', 'appropriate term/code not available', 'contamination', 'insufficient information', 'infusion or flow problem', 'temperature problem', 'activation problem', 'tactile prompts/feedback', 'image display error/artifact', 'environmental compatibility problem'], ['battery problem', 'failure to charge', 'battery problem ; protective measures problem ; unexpected shutdown', 'overheating of device ; battery problem', 'failure to power up', 'ailure to power up', 'premature discharge of battery', 'loss of power', 'complete loss of power', 'failure to run on battery', 'aborted charge', 'power problem', 'charging problem'], ['mechanical problem', 'contamination ; mechanical problem', 'detachment of device or device component', 'contamination ; mechanical problem', 'mechanical problem', 'mechanics altered', 'material erosion', 'mechanical problem ; failure to recalibrate', 'gas output problem ; decreased pump speed ; failure to deliver ; no pressure', 'mechanical problem ; failure of device to self-test', 'device fell', 'material rupture', 'inaccurate delivery', 'failure to deliver', 'no flow', 'unintended collision', 'physical resistance/sticking', 'obstruction of flow', 'failure to cycle', 'insufficient flow or under infusion']]\n"
     ]
    }
   ],
   "source": [
    "red_DP_list=[Calibration_Problems,Software_Problems,Circuit_failure,Power_Problems,Mechanical_Problems]\n",
    "red_DP_list_lower=[Calibration_Problems,Software_Problems,Circuit_failure,Power_Problems,Mechanical_Problems]\n",
    "for i in range(0, len(red_DP_list)):\n",
    "    #df[strip_list[i]]= df[strip_list[i]].str.strip()\n",
    "    series=pd.Series(red_DP_list[i]).str.strip()\n",
    "    red_DP_list_lower[i] = list(series.str.lower()) \n",
    "    #red_DP_list_lower[i].str.strip()\n",
    "print(red_DP_list_lower)"
   ]
  },
  {
   "cell_type": "markdown",
   "metadata": {},
   "source": [
    "# Replace Subcategories into 5 main categories"
   ]
  },
  {
   "cell_type": "code",
   "execution_count": 49,
   "metadata": {},
   "outputs": [],
   "source": [
    "df['Device_Problems']= df['Device_Problems'].str.strip()\n",
    "Names_red_DP_list=['Calibration_Problems','Software_Problems','Circuit_failure','Power_Problems','Mechanical_Problems']\n",
    "for i in range(0, len(red_DP_list_lower)):\n",
    "    df.Device_Problems= df.Device_Problems.replace(red_DP_list_lower[i],Names_red_DP_list[i])"
   ]
  },
  {
   "cell_type": "code",
   "execution_count": 52,
   "metadata": {},
   "outputs": [
    {
     "name": "stdout",
     "output_type": "stream",
     "text": [
      "Mechanical_df length = 1937\n",
      "Circuit_df length = 1566\n",
      "Calibration_df length = 1186\n",
      "Power_df length = 612\n",
      "Software_df length = 82\n"
     ]
    }
   ],
   "source": [
    "Calibration_df=df.where(df['Device_Problems'] == 'Calibration_Problems').dropna()\n",
    "Software_df=df.where(df['Device_Problems'] == 'Software_Problems').dropna()\n",
    "Circuit_df=df.where(df['Device_Problems'] == 'Circuit_failure').dropna()\n",
    "Power_df=df.where(df['Device_Problems'] == 'Power_Problems').dropna()\n",
    "Mechanical_df=df.where(df['Device_Problems'] == 'Mechanical_Problems').dropna()\n",
    "frames = [Mechanical_df,Circuit_df,Calibration_df,Power_df,Software_df]\n",
    "dataframes_names=  ['Mechanical_df','Circuit_df','Calibration_df','Power_df','Software_df']\n",
    "for i in range(0, len(frames)):\n",
    "    print(dataframes_names[i],'length =',len(frames[i]))"
   ]
  },
  {
   "cell_type": "markdown",
   "metadata": {},
   "source": [
    "# Concatenate them in one dataframe "
   ]
  },
  {
   "cell_type": "code",
   "execution_count": 53,
   "metadata": {},
   "outputs": [
    {
     "name": "stdout",
     "output_type": "stream",
     "text": [
      "5383\n"
     ]
    }
   ],
   "source": [
    "result = pd.concat(frames, ignore_index=True,sort=False)\n",
    "#print(pd.DataFrame(result))\n",
    "print(len(result))"
   ]
  },
  {
   "cell_type": "code",
   "execution_count": 54,
   "metadata": {},
   "outputs": [
    {
     "data": {
      "text/html": [
       "<div>\n",
       "<style scoped>\n",
       "    .dataframe tbody tr th:only-of-type {\n",
       "        vertical-align: middle;\n",
       "    }\n",
       "\n",
       "    .dataframe tbody tr th {\n",
       "        vertical-align: top;\n",
       "    }\n",
       "\n",
       "    .dataframe thead th {\n",
       "        text-align: right;\n",
       "    }\n",
       "</style>\n",
       "<table border=\"1\" class=\"dataframe\">\n",
       "  <thead>\n",
       "    <tr style=\"text-align: right;\">\n",
       "      <th></th>\n",
       "      <th>Device_Problems</th>\n",
       "      <th>Event_description</th>\n",
       "      <th>Narrative</th>\n",
       "    </tr>\n",
       "  </thead>\n",
       "  <tbody>\n",
       "    <tr>\n",
       "      <th>0</th>\n",
       "      <td>Mechanical_Problems</td>\n",
       "      <td>it was reported to vyaire that the avea ventilator would not pressurize failed the circuit calibration and was alarming low pressure the customer advised there was no patient involvement associated with this event</td>\n",
       "      <td>b4 a vyaire field service representative fsr evaluated the device onsite and could not duplicate the problems reported by the customer the fsr performed the est and performance check he confirmed the ventilator passed all testing and met all vyaire oem specifications vyaire medical will submit a supplemental report in accordance with 21 cfr section 803 56 if additional information becomes available</td>\n",
       "    </tr>\n",
       "    <tr>\n",
       "      <th>1</th>\n",
       "      <td>Mechanical_Problems</td>\n",
       "      <td>the customer reported that the ventilator turns on into ventilation mode successfully but will not go into diagnostic mode there was no patient involvement technical support advised the customer that it is possibly due to a defective central processing unit printed board assembly cpu pcba</td>\n",
       "      <td>date of event b6 2019 date of report 02jan2020</td>\n",
       "    </tr>\n",
       "    <tr>\n",
       "      <th>2</th>\n",
       "      <td>Mechanical_Problems</td>\n",
       "      <td>it was reported to vyaire that the fio2 on the avea ventilator does not change when the setting is changed to another value the customer advised there was no patient involvement associated with this event</td>\n",
       "      <td>b4 the vyaire failure analysis laboratory received the suspect component and performed a failure investigation the reported issue was duplicated and was isolated to the o2 blender this issue was addressed by capa b4 vyaire medical will submit a supplemental report in accordance with 21 cfr section 803 56 if additional information becomes available</td>\n",
       "    </tr>\n",
       "    <tr>\n",
       "      <th>3</th>\n",
       "      <td>Mechanical_Problems</td>\n",
       "      <td>it was reported to vyaire that the vela ventilator was alarming transducer fault and vent inop the customer advised there was no patient involvement associated with this event</td>\n",
       "      <td>b4 at this time vyaire has not received the suspect devicecomponent for evaluation vyaire medical will submit a supplemental report in accordance with 21 cfr section 803 56 if additional information becomes available</td>\n",
       "    </tr>\n",
       "    <tr>\n",
       "      <th>4</th>\n",
       "      <td>Mechanical_Problems</td>\n",
       "      <td>it was reported to vyaire that the compressor on the avea ventilator was not working the customer advised the patient was moved to another ventilator</td>\n",
       "      <td>vyaire complaint  b4 at this time vyaire has not received the suspect devicecomponent for evaluation vyaire medical will submit a supplemental report in accordance with 21 cfr section 803 56 if additional information becomes available</td>\n",
       "    </tr>\n",
       "  </tbody>\n",
       "</table>\n",
       "</div>"
      ],
      "text/plain": [
       "       Device_Problems  \\\n",
       "0  Mechanical_Problems   \n",
       "1  Mechanical_Problems   \n",
       "2  Mechanical_Problems   \n",
       "3  Mechanical_Problems   \n",
       "4  Mechanical_Problems   \n",
       "\n",
       "                                                                                                                                                                                                                                                                                   Event_description  \\\n",
       "0                                                                              it was reported to vyaire that the avea ventilator would not pressurize failed the circuit calibration and was alarming low pressure the customer advised there was no patient involvement associated with this event   \n",
       "1  the customer reported that the ventilator turns on into ventilation mode successfully but will not go into diagnostic mode there was no patient involvement technical support advised the customer that it is possibly due to a defective central processing unit printed board assembly cpu pcba   \n",
       "2                                                                                       it was reported to vyaire that the fio2 on the avea ventilator does not change when the setting is changed to another value the customer advised there was no patient involvement associated with this event   \n",
       "3                                                                                                                    it was reported to vyaire that the vela ventilator was alarming transducer fault and vent inop the customer advised there was no patient involvement associated with this event   \n",
       "4                                                                                                                                              it was reported to vyaire that the compressor on the avea ventilator was not working the customer advised the patient was moved to another ventilator   \n",
       "\n",
       "                                                                                                                                                                                                                                                                                                                                                                                                           Narrative  \n",
       "0  b4 a vyaire field service representative fsr evaluated the device onsite and could not duplicate the problems reported by the customer the fsr performed the est and performance check he confirmed the ventilator passed all testing and met all vyaire oem specifications vyaire medical will submit a supplemental report in accordance with 21 cfr section 803 56 if additional information becomes available  \n",
       "1                                                                                                                                                                                                                                                                                                                                                                     date of event b6 2019 date of report 02jan2020  \n",
       "2                                                      b4 the vyaire failure analysis laboratory received the suspect component and performed a failure investigation the reported issue was duplicated and was isolated to the o2 blender this issue was addressed by capa b4 vyaire medical will submit a supplemental report in accordance with 21 cfr section 803 56 if additional information becomes available  \n",
       "3                                                                                                                                                                                           b4 at this time vyaire has not received the suspect devicecomponent for evaluation vyaire medical will submit a supplemental report in accordance with 21 cfr section 803 56 if additional information becomes available  \n",
       "4                                                                                                                                                                         vyaire complaint  b4 at this time vyaire has not received the suspect devicecomponent for evaluation vyaire medical will submit a supplemental report in accordance with 21 cfr section 803 56 if additional information becomes available  "
      ]
     },
     "execution_count": 54,
     "metadata": {},
     "output_type": "execute_result"
    }
   ],
   "source": [
    "pd.DataFrame(result).head()"
   ]
  },
  {
   "cell_type": "code",
   "execution_count": 55,
   "metadata": {},
   "outputs": [
    {
     "data": {
      "text/plain": [
       "Mechanical_Problems     1937\n",
       "Circuit_failure         1566\n",
       "Calibration_Problems    1186\n",
       "Power_Problems           612\n",
       "Software_Problems         82\n",
       "Name: Device_Problems, dtype: int64"
      ]
     },
     "execution_count": 55,
     "metadata": {},
     "output_type": "execute_result"
    }
   ],
   "source": [
    "result.Device_Problems.value_counts()"
   ]
  },
  {
   "cell_type": "code",
   "execution_count": 56,
   "metadata": {},
   "outputs": [
    {
     "data": {
      "text/plain": [
       "5383"
      ]
     },
     "execution_count": 56,
     "metadata": {},
     "output_type": "execute_result"
    }
   ],
   "source": [
    "len(result)"
   ]
  },
  {
   "cell_type": "code",
   "execution_count": 21,
   "metadata": {},
   "outputs": [
    {
     "data": {
      "image/png": "[encoded data removed]",
      "text/plain": [
       "<Figure size 576x432 with 1 Axes>"
      ]
     },
     "metadata": {
      "needs_background": "light"
     },
     "output_type": "display_data"
    }
   ],
   "source": [
    "fig = plt.figure(figsize=(8,6))\n",
    "result.groupby('Device_Problems').Event_description.count().plot.bar(ylim=0)\n",
    "plt.show()"
   ]
  },
  {
   "cell_type": "markdown",
   "metadata": {},
   "source": [
    "# Combine Narrative and Event description columns in one column"
   ]
  },
  {
   "cell_type": "code",
   "execution_count": 57,
   "metadata": {},
   "outputs": [
    {
     "name": "stdout",
     "output_type": "stream",
     "text": [
      "5383\n"
     ]
    },
    {
     "data": {
      "text/html": [
       "<div>\n",
       "<style scoped>\n",
       "    .dataframe tbody tr th:only-of-type {\n",
       "        vertical-align: middle;\n",
       "    }\n",
       "\n",
       "    .dataframe tbody tr th {\n",
       "        vertical-align: top;\n",
       "    }\n",
       "\n",
       "    .dataframe thead th {\n",
       "        text-align: right;\n",
       "    }\n",
       "</style>\n",
       "<table border=\"1\" class=\"dataframe\">\n",
       "  <thead>\n",
       "    <tr style=\"text-align: right;\">\n",
       "      <th></th>\n",
       "      <th>Device_Problems</th>\n",
       "      <th>Event_description</th>\n",
       "      <th>Narrative</th>\n",
       "      <th>Event_description_Narrative</th>\n",
       "    </tr>\n",
       "  </thead>\n",
       "  <tbody>\n",
       "    <tr>\n",
       "      <th>0</th>\n",
       "      <td>Mechanical_Problems</td>\n",
       "      <td>it was reported to vyaire that the avea ventilator would not pressurize failed the circuit calibration and was alarming low pressure the customer advised there was no patient involvement associated with this event</td>\n",
       "      <td>b4 a vyaire field service representative fsr evaluated the device onsite and could not duplicate the problems reported by the customer the fsr performed the est and performance check he confirmed the ventilator passed all testing and met all vyaire oem specifications vyaire medical will submit a supplemental report in accordance with 21 cfr section 803 56 if additional information becomes available</td>\n",
       "      <td>it was reported to vyaire that the avea ventilator would not pressurize failed the circuit calibration and was alarming low pressure the customer advised there was no patient involvement associated with this eventb4 a vyaire field service representative fsr evaluated the device onsite and could not duplicate the problems reported by the customer the fsr performed the est and performance check he confirmed the ventilator passed all testing and met all vyaire oem specifications vyaire medical ...</td>\n",
       "    </tr>\n",
       "    <tr>\n",
       "      <th>1</th>\n",
       "      <td>Mechanical_Problems</td>\n",
       "      <td>the customer reported that the ventilator turns on into ventilation mode successfully but will not go into diagnostic mode there was no patient involvement technical support advised the customer that it is possibly due to a defective central processing unit printed board assembly cpu pcba</td>\n",
       "      <td>date of event b6 2019 date of report 02jan2020</td>\n",
       "      <td>the customer reported that the ventilator turns on into ventilation mode successfully but will not go into diagnostic mode there was no patient involvement technical support advised the customer that it is possibly due to a defective central processing unit printed board assembly cpu pcbadate of event b6 2019 date of report 02jan2020</td>\n",
       "    </tr>\n",
       "    <tr>\n",
       "      <th>2</th>\n",
       "      <td>Mechanical_Problems</td>\n",
       "      <td>it was reported to vyaire that the fio2 on the avea ventilator does not change when the setting is changed to another value the customer advised there was no patient involvement associated with this event</td>\n",
       "      <td>b4 the vyaire failure analysis laboratory received the suspect component and performed a failure investigation the reported issue was duplicated and was isolated to the o2 blender this issue was addressed by capa b4 vyaire medical will submit a supplemental report in accordance with 21 cfr section 803 56 if additional information becomes available</td>\n",
       "      <td>it was reported to vyaire that the fio2 on the avea ventilator does not change when the setting is changed to another value the customer advised there was no patient involvement associated with this eventb4 the vyaire failure analysis laboratory received the suspect component and performed a failure investigation the reported issue was duplicated and was isolated to the o2 blender this issue was addressed by capa b4 vyaire medical will submit a supplemental report in accordance with 21 cfr s...</td>\n",
       "    </tr>\n",
       "    <tr>\n",
       "      <th>3</th>\n",
       "      <td>Mechanical_Problems</td>\n",
       "      <td>it was reported to vyaire that the vela ventilator was alarming transducer fault and vent inop the customer advised there was no patient involvement associated with this event</td>\n",
       "      <td>b4 at this time vyaire has not received the suspect devicecomponent for evaluation vyaire medical will submit a supplemental report in accordance with 21 cfr section 803 56 if additional information becomes available</td>\n",
       "      <td>it was reported to vyaire that the vela ventilator was alarming transducer fault and vent inop the customer advised there was no patient involvement associated with this eventb4 at this time vyaire has not received the suspect devicecomponent for evaluation vyaire medical will submit a supplemental report in accordance with 21 cfr section 803 56 if additional information becomes available</td>\n",
       "    </tr>\n",
       "    <tr>\n",
       "      <th>4</th>\n",
       "      <td>Mechanical_Problems</td>\n",
       "      <td>it was reported to vyaire that the compressor on the avea ventilator was not working the customer advised the patient was moved to another ventilator</td>\n",
       "      <td>vyaire complaint  b4 at this time vyaire has not received the suspect devicecomponent for evaluation vyaire medical will submit a supplemental report in accordance with 21 cfr section 803 56 if additional information becomes available</td>\n",
       "      <td>it was reported to vyaire that the compressor on the avea ventilator was not working the customer advised the patient was moved to another ventilatorvyaire complaint  b4 at this time vyaire has not received the suspect devicecomponent for evaluation vyaire medical will submit a supplemental report in accordance with 21 cfr section 803 56 if additional information becomes available</td>\n",
       "    </tr>\n",
       "  </tbody>\n",
       "</table>\n",
       "</div>"
      ],
      "text/plain": [
       "       Device_Problems  \\\n",
       "0  Mechanical_Problems   \n",
       "1  Mechanical_Problems   \n",
       "2  Mechanical_Problems   \n",
       "3  Mechanical_Problems   \n",
       "4  Mechanical_Problems   \n",
       "\n",
       "                                                                                                                                                                                                                                                                                   Event_description  \\\n",
       "0                                                                              it was reported to vyaire that the avea ventilator would not pressurize failed the circuit calibration and was alarming low pressure the customer advised there was no patient involvement associated with this event   \n",
       "1  the customer reported that the ventilator turns on into ventilation mode successfully but will not go into diagnostic mode there was no patient involvement technical support advised the customer that it is possibly due to a defective central processing unit printed board assembly cpu pcba   \n",
       "2                                                                                       it was reported to vyaire that the fio2 on the avea ventilator does not change when the setting is changed to another value the customer advised there was no patient involvement associated with this event   \n",
       "3                                                                                                                    it was reported to vyaire that the vela ventilator was alarming transducer fault and vent inop the customer advised there was no patient involvement associated with this event   \n",
       "4                                                                                                                                              it was reported to vyaire that the compressor on the avea ventilator was not working the customer advised the patient was moved to another ventilator   \n",
       "\n",
       "                                                                                                                                                                                                                                                                                                                                                                                                           Narrative  \\\n",
       "0  b4 a vyaire field service representative fsr evaluated the device onsite and could not duplicate the problems reported by the customer the fsr performed the est and performance check he confirmed the ventilator passed all testing and met all vyaire oem specifications vyaire medical will submit a supplemental report in accordance with 21 cfr section 803 56 if additional information becomes available   \n",
       "1                                                                                                                                                                                                                                                                                                                                                                     date of event b6 2019 date of report 02jan2020   \n",
       "2                                                      b4 the vyaire failure analysis laboratory received the suspect component and performed a failure investigation the reported issue was duplicated and was isolated to the o2 blender this issue was addressed by capa b4 vyaire medical will submit a supplemental report in accordance with 21 cfr section 803 56 if additional information becomes available   \n",
       "3                                                                                                                                                                                           b4 at this time vyaire has not received the suspect devicecomponent for evaluation vyaire medical will submit a supplemental report in accordance with 21 cfr section 803 56 if additional information becomes available   \n",
       "4                                                                                                                                                                         vyaire complaint  b4 at this time vyaire has not received the suspect devicecomponent for evaluation vyaire medical will submit a supplemental report in accordance with 21 cfr section 803 56 if additional information becomes available   \n",
       "\n",
       "                                                                                                                                                                                                                                                                                                                                                                                                                                                                                           Event_description_Narrative  \n",
       "0  it was reported to vyaire that the avea ventilator would not pressurize failed the circuit calibration and was alarming low pressure the customer advised there was no patient involvement associated with this eventb4 a vyaire field service representative fsr evaluated the device onsite and could not duplicate the problems reported by the customer the fsr performed the est and performance check he confirmed the ventilator passed all testing and met all vyaire oem specifications vyaire medical ...  \n",
       "1                                                                                                                                                                      the customer reported that the ventilator turns on into ventilation mode successfully but will not go into diagnostic mode there was no patient involvement technical support advised the customer that it is possibly due to a defective central processing unit printed board assembly cpu pcbadate of event b6 2019 date of report 02jan2020  \n",
       "2  it was reported to vyaire that the fio2 on the avea ventilator does not change when the setting is changed to another value the customer advised there was no patient involvement associated with this eventb4 the vyaire failure analysis laboratory received the suspect component and performed a failure investigation the reported issue was duplicated and was isolated to the o2 blender this issue was addressed by capa b4 vyaire medical will submit a supplemental report in accordance with 21 cfr s...  \n",
       "3                                                                                                              it was reported to vyaire that the vela ventilator was alarming transducer fault and vent inop the customer advised there was no patient involvement associated with this eventb4 at this time vyaire has not received the suspect devicecomponent for evaluation vyaire medical will submit a supplemental report in accordance with 21 cfr section 803 56 if additional information becomes available  \n",
       "4                                                                                                                      it was reported to vyaire that the compressor on the avea ventilator was not working the customer advised the patient was moved to another ventilatorvyaire complaint  b4 at this time vyaire has not received the suspect devicecomponent for evaluation vyaire medical will submit a supplemental report in accordance with 21 cfr section 803 56 if additional information becomes available  "
      ]
     },
     "execution_count": 57,
     "metadata": {},
     "output_type": "execute_result"
    }
   ],
   "source": [
    "result[\"Event_description_Narrative\"] = result[\"Event_description\"] + result[\"Narrative\"]\n",
    "print(len(pd.DataFrame(result)))\n",
    "result.head()"
   ]
  },
  {
   "cell_type": "markdown",
   "metadata": {},
   "source": [
    "# Save the Dataframe after data transformation "
   ]
  },
  {
   "cell_type": "code",
   "execution_count": 58,
   "metadata": {},
   "outputs": [],
   "source": [
    "result.to_csv('CBK2020transformed.csv')"
   ]
  }
 ],
 "metadata": {
  "kernelspec": {
   "display_name": "Python 3",
   "language": "python",
   "name": "python3"
  },
  "language_info": {
   "codemirror_mode": {
    "name": "ipython",
    "version": 3
   },
   "file_extension": ".py",
   "mimetype": "text/x-python",
   "name": "python",
   "nbconvert_exporter": "python",
   "pygments_lexer": "ipython3",
   "version": "3.8.5"
  }
 },
 "nbformat": 4,
 "nbformat_minor": 4
}
